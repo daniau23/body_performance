{
 "cells": [
  {
   "cell_type": "code",
   "execution_count": 75,
   "metadata": {},
   "outputs": [],
   "source": [
    "import pandas as pd\n",
    "import numpy as np \n",
    "import matplotlib.pyplot as plt\n",
    "import plotly.express as px\n",
    "import plotly.graph_objects as go\n",
    "import seaborn as sns\n",
    "import warnings\n",
    "warnings.filterwarnings(\"ignore\")"
   ]
  },
  {
   "cell_type": "code",
   "execution_count": 76,
   "metadata": {},
   "outputs": [],
   "source": [
    "df = pd.read_csv(\"../classify/classification_dataset.csv\")\n",
    "df2 = pd.read_csv(\"../classify/classification_dataset_two.csv\")"
   ]
  },
  {
   "cell_type": "code",
   "execution_count": 77,
   "metadata": {},
   "outputs": [],
   "source": [
    "df['clusters'] = df2['clusters']"
   ]
  },
  {
   "cell_type": "code",
   "execution_count": 78,
   "metadata": {},
   "outputs": [
    {
     "data": {
      "text/html": [
       "<div>\n",
       "<style scoped>\n",
       "    .dataframe tbody tr th:only-of-type {\n",
       "        vertical-align: middle;\n",
       "    }\n",
       "\n",
       "    .dataframe tbody tr th {\n",
       "        vertical-align: top;\n",
       "    }\n",
       "\n",
       "    .dataframe thead th {\n",
       "        text-align: right;\n",
       "    }\n",
       "</style>\n",
       "<table border=\"1\" class=\"dataframe\">\n",
       "  <thead>\n",
       "    <tr style=\"text-align: right;\">\n",
       "      <th></th>\n",
       "      <th>age</th>\n",
       "      <th>weight_kg</th>\n",
       "      <th>height_m</th>\n",
       "      <th>bmi</th>\n",
       "      <th>body_fat_percent</th>\n",
       "      <th>grip_force</th>\n",
       "      <th>sit_ups_counts</th>\n",
       "      <th>sit_and_bend_forward_m</th>\n",
       "      <th>broad_jump_m</th>\n",
       "      <th>diastolic</th>\n",
       "      <th>systolic</th>\n",
       "      <th>gender</th>\n",
       "      <th>encoded_class</th>\n",
       "      <th>clusters</th>\n",
       "    </tr>\n",
       "  </thead>\n",
       "  <tbody>\n",
       "    <tr>\n",
       "      <th>10773</th>\n",
       "      <td>21</td>\n",
       "      <td>71.50</td>\n",
       "      <td>1.751</td>\n",
       "      <td>23.320279</td>\n",
       "      <td>21.1</td>\n",
       "      <td>33.0</td>\n",
       "      <td>26.0</td>\n",
       "      <td>0.103</td>\n",
       "      <td>1.82</td>\n",
       "      <td>94.0</td>\n",
       "      <td>138.0</td>\n",
       "      <td>1</td>\n",
       "      <td>3</td>\n",
       "      <td>4</td>\n",
       "    </tr>\n",
       "    <tr>\n",
       "      <th>5496</th>\n",
       "      <td>42</td>\n",
       "      <td>67.30</td>\n",
       "      <td>1.623</td>\n",
       "      <td>25.549242</td>\n",
       "      <td>18.0</td>\n",
       "      <td>48.5</td>\n",
       "      <td>52.0</td>\n",
       "      <td>0.152</td>\n",
       "      <td>2.19</td>\n",
       "      <td>64.0</td>\n",
       "      <td>130.0</td>\n",
       "      <td>1</td>\n",
       "      <td>0</td>\n",
       "      <td>3</td>\n",
       "    </tr>\n",
       "    <tr>\n",
       "      <th>13054</th>\n",
       "      <td>36</td>\n",
       "      <td>90.50</td>\n",
       "      <td>1.785</td>\n",
       "      <td>28.403518</td>\n",
       "      <td>14.7</td>\n",
       "      <td>64.0</td>\n",
       "      <td>45.0</td>\n",
       "      <td>0.264</td>\n",
       "      <td>2.62</td>\n",
       "      <td>87.0</td>\n",
       "      <td>125.0</td>\n",
       "      <td>1</td>\n",
       "      <td>2</td>\n",
       "      <td>0</td>\n",
       "    </tr>\n",
       "    <tr>\n",
       "      <th>11825</th>\n",
       "      <td>29</td>\n",
       "      <td>85.50</td>\n",
       "      <td>1.823</td>\n",
       "      <td>25.727215</td>\n",
       "      <td>17.7</td>\n",
       "      <td>49.5</td>\n",
       "      <td>43.0</td>\n",
       "      <td>0.122</td>\n",
       "      <td>2.54</td>\n",
       "      <td>76.0</td>\n",
       "      <td>122.0</td>\n",
       "      <td>1</td>\n",
       "      <td>3</td>\n",
       "      <td>3</td>\n",
       "    </tr>\n",
       "    <tr>\n",
       "      <th>1326</th>\n",
       "      <td>53</td>\n",
       "      <td>88.48</td>\n",
       "      <td>1.773</td>\n",
       "      <td>28.146710</td>\n",
       "      <td>35.6</td>\n",
       "      <td>36.3</td>\n",
       "      <td>18.0</td>\n",
       "      <td>0.064</td>\n",
       "      <td>1.83</td>\n",
       "      <td>76.0</td>\n",
       "      <td>130.0</td>\n",
       "      <td>1</td>\n",
       "      <td>3</td>\n",
       "      <td>4</td>\n",
       "    </tr>\n",
       "  </tbody>\n",
       "</table>\n",
       "</div>"
      ],
      "text/plain": [
       "       age  weight_kg  height_m        bmi  body_fat_percent  grip_force  \\\n",
       "10773   21      71.50     1.751  23.320279              21.1        33.0   \n",
       "5496    42      67.30     1.623  25.549242              18.0        48.5   \n",
       "13054   36      90.50     1.785  28.403518              14.7        64.0   \n",
       "11825   29      85.50     1.823  25.727215              17.7        49.5   \n",
       "1326    53      88.48     1.773  28.146710              35.6        36.3   \n",
       "\n",
       "       sit_ups_counts  sit_and_bend_forward_m  broad_jump_m  diastolic  \\\n",
       "10773            26.0                   0.103          1.82       94.0   \n",
       "5496             52.0                   0.152          2.19       64.0   \n",
       "13054            45.0                   0.264          2.62       87.0   \n",
       "11825            43.0                   0.122          2.54       76.0   \n",
       "1326             18.0                   0.064          1.83       76.0   \n",
       "\n",
       "       systolic  gender  encoded_class  clusters  \n",
       "10773     138.0       1              3         4  \n",
       "5496      130.0       1              0         3  \n",
       "13054     125.0       1              2         0  \n",
       "11825     122.0       1              3         3  \n",
       "1326      130.0       1              3         4  "
      ]
     },
     "execution_count": 78,
     "metadata": {},
     "output_type": "execute_result"
    }
   ],
   "source": [
    "df.sample(random_state=42,n=5)"
   ]
  },
  {
   "cell_type": "markdown",
   "metadata": {},
   "source": [
    "## **Custom Estimators Regression**"
   ]
  },
  {
   "cell_type": "code",
   "execution_count": 79,
   "metadata": {},
   "outputs": [
    {
     "data": {
      "text/plain": [
       "'1.0.2'"
      ]
     },
     "execution_count": 79,
     "metadata": {},
     "output_type": "execute_result"
    }
   ],
   "source": [
    "import sklearn\n",
    "sklearn.__version__"
   ]
  },
  {
   "cell_type": "code",
   "execution_count": 80,
   "metadata": {},
   "outputs": [],
   "source": [
    "from sklearn.base import BaseEstimator,RegressorMixin, TransformerMixin,ClassifierMixin\n",
    "from sklearn.pipeline import Pipeline\n",
    "from sklearn.model_selection import train_test_split\n",
    "from sklearn.metrics import mean_squared_error\n",
    "from sklearn.compose import ColumnTransformer\n",
    "from sklearn.preprocessing import FunctionTransformer"
   ]
  },
  {
   "cell_type": "code",
   "execution_count": 81,
   "metadata": {},
   "outputs": [],
   "source": [
    "X = df.drop(columns=[\"age\"])\n",
    "y = df['age']"
   ]
  },
  {
   "cell_type": "code",
   "execution_count": null,
   "metadata": {},
   "outputs": [],
   "source": [
    "# # AttributeError: 'MyScaler' object has no attribute 'factor'\n",
    "# # My reason for commenting the parts of the code\n",
    "\n",
    "# # Custom scaler\n",
    "# class MyScaler(BaseEstimator,TransformerMixin):\n",
    "#     # Constructor    \n",
    "#     def __int__(self,factor=3):\n",
    "#         self.factor = factor\n",
    "    \n",
    "#     # fit method \n",
    "#     def fit(self,X,y=None):\n",
    "#         # fit should only take X and y as parameters\n",
    "#         # Even if your model is unsupervised, you need to accept a y argument!\n",
    "#         print(\"Done fitting\")\n",
    "#         return self\n",
    "\n",
    "    \n",
    "#     # transform method\n",
    "#     def transform(self,X):\n",
    "#         # transform takes as parameter only X\n",
    "#         # Apply some transformation to X\n",
    "#         return (X * self.factor)/(X + self.factor)\n",
    "\n",
    "\n",
    "#     # def get_params(self, deep=True):\n",
    "#     #     return {'factor': self.factor}\n",
    "\n",
    "#     # def set_params(self, **params):\n",
    "#     #     self.factor = params['factor']\n",
    "#     #     return self\n",
    "        "
   ]
  },
  {
   "cell_type": "code",
   "execution_count": 96,
   "metadata": {},
   "outputs": [],
   "source": [
    "# Custom scaler\n",
    "class MyScaler(BaseEstimator,TransformerMixin):\n",
    "\n",
    "    # fit method \n",
    "    def fit(self,X,y=None):\n",
    "        # fit should only take X and y as parameters\n",
    "        # Even if your model is unsupervised, you need to accept a y argument!\n",
    "        print(\"Transformer fitted\")\n",
    "        return self\n",
    "\n",
    "    \n",
    "    # transform method\n",
    "    def transform(self,X):\n",
    "        # transform takes as parameter only X\n",
    "        # Apply some transformation to X\n",
    "        return (X * 3)/(X + 3)"
   ]
  },
  {
   "cell_type": "code",
   "execution_count": 97,
   "metadata": {},
   "outputs": [],
   "source": [
    "# Custom Regression\n",
    "class MyLinearRegressor(BaseEstimator,RegressorMixin):\n",
    "    def __init__(self):\n",
    "        self.cofficients = None\n",
    "        self.intercept = None\n",
    "\n",
    "    # fit method for your algebric equation\n",
    "    def fit(self,X,y):\n",
    "        # Add a column of ones to X for the intercept term\n",
    "        X_with_intercept = np.c_[np.ones((X.shape[0],1)),X]\n",
    "\n",
    "        # Solve the linear regression equation to obtain the coefficients\n",
    "        self.coefficients = np.linalg.inv(X_with_intercept.T.dot(X_with_intercept)).dot(X_with_intercept.T).dot(y)\n",
    "        self.intercept = self.coefficients[0]\n",
    "        self.coefficients = self.coefficients[1:]\n",
    "        print(\"Regressor fitted\")\n",
    "\n",
    "        return self\n",
    "    \n",
    "    # predict method \n",
    "    def predict(self,X):\n",
    "        # Add a column of ones to X for the intercept term\n",
    "        X_with_intercept = np.c_[np.ones((X.shape[0], 1)), X]\n",
    "\n",
    "        # Calculate the predicted values\n",
    "        return X_with_intercept.dot(np.concatenate(([self.intercept], self.coefficients)))\n"
   ]
  },
  {
   "cell_type": "code",
   "execution_count": 98,
   "metadata": {},
   "outputs": [],
   "source": [
    "def log_tranform(x):\n",
    "    return np.log1p(x)"
   ]
  },
  {
   "cell_type": "code",
   "execution_count": 99,
   "metadata": {},
   "outputs": [],
   "source": [
    "function_transformer = FunctionTransformer(log_tranform) # functional"
   ]
  },
  {
   "cell_type": "code",
   "execution_count": 100,
   "metadata": {},
   "outputs": [],
   "source": [
    "column_transformer = ColumnTransformer(\n",
    "     transformers=[\n",
    "        (\n",
    "            'standard_scalering',MyScaler(),[1, 4, 5, 6, 9, 10]\n",
    "        ),\n",
    "        (\n",
    "            'functional_transformer',function_transformer,[3]\n",
    "        )\n",
    "    ], remainder='passthrough'\n",
    ")"
   ]
  },
  {
   "cell_type": "code",
   "execution_count": 101,
   "metadata": {},
   "outputs": [],
   "source": [
    "# Split the data into train and test sets\n",
    "X_train, X_test, y_train, y_test = train_test_split(X, y, test_size=0.2, random_state=42)\n",
    "\n",
    "cust_pipe = Pipeline([\n",
    "\n",
    "    ('cust_column_transformer',column_transformer),\n",
    "    ('reg',MyLinearRegressor())\n",
    "])\n",
    "\n",
    "# # Set the scaling factor in the pipeline\n",
    "# Accessing the column transformer through the pipeline\n",
    "# https://medium.com/mlearning-ai/get-column-name-after-fitting-the-machine-learning-pipeline-145a2a8051cc\n",
    "# cust_pipe.named_steps['cust_column_transformer'].named_transformers_[\"standard_scalering\"]"
   ]
  },
  {
   "cell_type": "code",
   "execution_count": 102,
   "metadata": {},
   "outputs": [
    {
     "name": "stdout",
     "output_type": "stream",
     "text": [
      "Transformer fitted\n",
      "Regressor fitted\n",
      "RMSE: 109.45180783234817\n"
     ]
    }
   ],
   "source": [
    "cust_pipe.fit(X_train,y_train)\n",
    "y_pred = cust_pipe.predict(X_test)\n",
    "rmse = mean_squared_error(y_test,y_pred)\n",
    "print(f\"RMSE: {rmse}\")"
   ]
  },
  {
   "cell_type": "markdown",
   "metadata": {},
   "source": [
    "## **Custom Estimators Classification**"
   ]
  },
  {
   "cell_type": "code",
   "execution_count": 144,
   "metadata": {},
   "outputs": [],
   "source": [
    "X = df.drop(columns=[\"encoded_class\"])\n",
    "y = df['encoded_class']"
   ]
  },
  {
   "cell_type": "code",
   "execution_count": 145,
   "metadata": {},
   "outputs": [],
   "source": [
    "class MyKNNClassifier(BaseEstimator, ClassifierMixin):\n",
    "    def __init__(self, k=3):\n",
    "        self.k = k\n",
    "        self.X_train = None\n",
    "        self.y_train = None\n",
    "        self.classes_ = None\n",
    "\n",
    "    def fit(self, X, y):\n",
    "        self.X_train = X\n",
    "        self.y_train = y\n",
    "        self.classes_ = np.unique(y)\n",
    "        return self\n",
    "\n",
    "    def predict(self, X):\n",
    "        distances = self.calculate_distances(X)\n",
    "        labels = self.vote(distances)\n",
    "        return labels\n",
    "\n",
    "    def calculate_distances(self, X):\n",
    "        distances = []\n",
    "        for x in X:\n",
    "            dist = np.sqrt(np.sum((self.X_train - x) ** 2, axis=1))\n",
    "            distances.append(dist)\n",
    "        return np.array(distances)\n",
    "\n",
    "    def vote(self, distances):\n",
    "        labels = []\n",
    "        for dist in distances:\n",
    "            indices = np.argsort(dist)[:self.k]\n",
    "            k_nearest_labels = self.y_train.iloc[indices]\n",
    "            unique, counts = np.unique(k_nearest_labels, return_counts=True)\n",
    "            label = unique[np.argmax(counts)]\n",
    "            labels.append(label)\n",
    "        return np.array(labels)"
   ]
  },
  {
   "cell_type": "code",
   "execution_count": 146,
   "metadata": {},
   "outputs": [],
   "source": [
    "column_transformer = ColumnTransformer(\n",
    "     transformers=[\n",
    "        (\n",
    "            'standard_scalering',MyScaler(),[1, 4, 5, 6, 9, 10]\n",
    "        ),\n",
    "        (\n",
    "            'functional_transformer',function_transformer,[3]\n",
    "        )\n",
    "    ], remainder='passthrough'\n",
    ")"
   ]
  },
  {
   "cell_type": "code",
   "execution_count": 147,
   "metadata": {},
   "outputs": [],
   "source": [
    "# Split the data into train and test sets\n",
    "X_train, X_test, y_train, y_test = train_test_split(X, y, test_size=0.2, random_state=42)\n",
    "\n",
    "cust_pipe = Pipeline([\n",
    "\n",
    "    ('cust_column_transformer',column_transformer),\n",
    "    ('clf',MyKNNClassifier())\n",
    "])"
   ]
  },
  {
   "cell_type": "code",
   "execution_count": 148,
   "metadata": {},
   "outputs": [
    {
     "name": "stdout",
     "output_type": "stream",
     "text": [
      "Transformer fitted\n"
     ]
    },
    {
     "data": {
      "text/plain": [
       "Pipeline(steps=[('cust_column_transformer',\n",
       "                 ColumnTransformer(remainder='passthrough',\n",
       "                                   transformers=[('standard_scalering',\n",
       "                                                  MyScaler(),\n",
       "                                                  [1, 4, 5, 6, 9, 10]),\n",
       "                                                 ('functional_transformer',\n",
       "                                                  FunctionTransformer(func=<function log_tranform at 0x0000022B79E45940>),\n",
       "                                                  [3])])),\n",
       "                ('clf', MyKNNClassifier())])"
      ]
     },
     "execution_count": 148,
     "metadata": {},
     "output_type": "execute_result"
    }
   ],
   "source": [
    "cust_pipe.fit(X_train,y_train)"
   ]
  },
  {
   "cell_type": "code",
   "execution_count": 149,
   "metadata": {},
   "outputs": [
    {
     "name": "stdout",
     "output_type": "stream",
     "text": [
      "              precision    recall  f1-score   support\n",
      "\n",
      "           0       0.70      0.88      0.78      2681\n",
      "           1       0.71      0.69      0.70      2683\n",
      "           2       0.77      0.72      0.75      2693\n",
      "           3       0.92      0.78      0.84      2656\n",
      "\n",
      "    accuracy                           0.77     10713\n",
      "   macro avg       0.78      0.77      0.77     10713\n",
      "weighted avg       0.78      0.77      0.77     10713\n",
      "\n"
     ]
    },
    {
     "data": {
      "image/png": "[encoded data removed]",
      "text/plain": [
       "<Figure size 640x480 with 2 Axes>"
      ]
     },
     "metadata": {},
     "output_type": "display_data"
    }
   ],
   "source": [
    "# Classification report\n",
    "from sklearn.metrics import classification_report,confusion_matrix,ConfusionMatrixDisplay\n",
    "y_pred_train = cust_pipe.predict(X_train)\n",
    "\n",
    "y_train = y_train\n",
    "sns.set_theme(style='white')\n",
    "def class_report(model,y_train,y_pred_train):\n",
    "    print(classification_report(y_train,y_pred_train))\n",
    "    cm = confusion_matrix(y_train,y_pred_train,labels=model.classes_)\n",
    "    disp = ConfusionMatrixDisplay(confusion_matrix=cm, display_labels=model.classes_)\n",
    "    disp.plot()\n",
    "    plt.show()\n",
    "\n",
    "\n",
    "class_report(cust_pipe,y_train,y_pred_train)"
   ]
  },
  {
   "cell_type": "code",
   "execution_count": 150,
   "metadata": {},
   "outputs": [
    {
     "data": {
      "text/plain": [
       "array([2, 0, 0, ..., 0, 1, 2], dtype=int64)"
      ]
     },
     "execution_count": 150,
     "metadata": {},
     "output_type": "execute_result"
    }
   ],
   "source": [
    "y_pred_test = cust_pipe.predict(X_test)\n",
    "y_pred_test"
   ]
  },
  {
   "cell_type": "code",
   "execution_count": 151,
   "metadata": {},
   "outputs": [
    {
     "name": "stdout",
     "output_type": "stream",
     "text": [
      "              precision    recall  f1-score   support\n",
      "\n",
      "           0       0.59      0.75      0.66       666\n",
      "           1       0.47      0.45      0.46       664\n",
      "           2       0.55      0.52      0.53       656\n",
      "           3       0.83      0.68      0.74       693\n",
      "\n",
      "    accuracy                           0.60      2679\n",
      "   macro avg       0.61      0.60      0.60      2679\n",
      "weighted avg       0.61      0.60      0.60      2679\n",
      "\n"
     ]
    },
    {
     "data": {
      "image/png": "[encoded data removed]",
      "text/plain": [
       "<Figure size 640x480 with 2 Axes>"
      ]
     },
     "metadata": {},
     "output_type": "display_data"
    }
   ],
   "source": [
    "# Classification report\n",
    "y_test = y_test\n",
    "sns.set_theme(style='white')\n",
    "def class_report(model,y_test,pred):\n",
    "    print(classification_report(y_test,pred))\n",
    "    cm = confusion_matrix(y_test,pred,labels=model.classes_)\n",
    "    disp = ConfusionMatrixDisplay(confusion_matrix=cm, display_labels=model.classes_)\n",
    "    disp.plot()\n",
    "    plt.show()\n",
    "\n",
    "\n",
    "class_report(cust_pipe,y_test,y_pred_test)"
   ]
  }
 ],
 "metadata": {
  "kernelspec": {
   "display_name": "Python 3.8.13",
   "language": "python",
   "name": "python3"
  },
  "language_info": {
   "codemirror_mode": {
    "name": "ipython",
    "version": 3
   },
   "file_extension": ".py",
   "mimetype": "text/x-python",
   "name": "python",
   "nbconvert_exporter": "python",
   "pygments_lexer": "ipython3",
   "version": "3.8.13"
  },
  "orig_nbformat": 4,
  "vscode": {
   "interpreter": {
    "hash": "c8e3cf4d6bb4a0ac7877b378c8a3c902fd94777f6924c9107da577688ed2ac1b"
   }
  }
 },
 "nbformat": 4,
 "nbformat_minor": 2
}
