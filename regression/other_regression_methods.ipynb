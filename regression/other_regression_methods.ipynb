{
 "cells": [
  {
   "cell_type": "code",
   "execution_count": 50,
   "metadata": {},
   "outputs": [],
   "source": [
    "import pandas as pd\n",
    "import numpy as np \n",
    "import matplotlib.pyplot as plt\n",
    "import plotly.express as px\n",
    "import plotly.graph_objects as go\n",
    "import seaborn as sns\n",
    "import warnings\n",
    "warnings.filterwarnings(\"ignore\")"
   ]
  },
  {
   "cell_type": "code",
   "execution_count": 51,
   "metadata": {},
   "outputs": [],
   "source": [
    "df = pd.read_csv(\"../classify/classification_dataset.csv\")"
   ]
  },
  {
   "cell_type": "code",
   "execution_count": 52,
   "metadata": {},
   "outputs": [
    {
     "data": {
      "text/html": [
       "<div>\n",
       "<style scoped>\n",
       "    .dataframe tbody tr th:only-of-type {\n",
       "        vertical-align: middle;\n",
       "    }\n",
       "\n",
       "    .dataframe tbody tr th {\n",
       "        vertical-align: top;\n",
       "    }\n",
       "\n",
       "    .dataframe thead th {\n",
       "        text-align: right;\n",
       "    }\n",
       "</style>\n",
       "<table border=\"1\" class=\"dataframe\">\n",
       "  <thead>\n",
       "    <tr style=\"text-align: right;\">\n",
       "      <th></th>\n",
       "      <th>age</th>\n",
       "      <th>weight_kg</th>\n",
       "      <th>height_m</th>\n",
       "      <th>bmi</th>\n",
       "      <th>body_fat_percent</th>\n",
       "      <th>grip_force</th>\n",
       "      <th>sit_ups_counts</th>\n",
       "      <th>sit_and_bend_forward_m</th>\n",
       "      <th>broad_jump_m</th>\n",
       "      <th>diastolic</th>\n",
       "      <th>systolic</th>\n",
       "      <th>gender</th>\n",
       "      <th>encoded_class</th>\n",
       "    </tr>\n",
       "  </thead>\n",
       "  <tbody>\n",
       "    <tr>\n",
       "      <th>10773</th>\n",
       "      <td>21</td>\n",
       "      <td>71.50</td>\n",
       "      <td>1.751</td>\n",
       "      <td>23.320279</td>\n",
       "      <td>21.1</td>\n",
       "      <td>33.0</td>\n",
       "      <td>26.0</td>\n",
       "      <td>0.103</td>\n",
       "      <td>1.82</td>\n",
       "      <td>94.0</td>\n",
       "      <td>138.0</td>\n",
       "      <td>1</td>\n",
       "      <td>3</td>\n",
       "    </tr>\n",
       "    <tr>\n",
       "      <th>5496</th>\n",
       "      <td>42</td>\n",
       "      <td>67.30</td>\n",
       "      <td>1.623</td>\n",
       "      <td>25.549242</td>\n",
       "      <td>18.0</td>\n",
       "      <td>48.5</td>\n",
       "      <td>52.0</td>\n",
       "      <td>0.152</td>\n",
       "      <td>2.19</td>\n",
       "      <td>64.0</td>\n",
       "      <td>130.0</td>\n",
       "      <td>1</td>\n",
       "      <td>0</td>\n",
       "    </tr>\n",
       "    <tr>\n",
       "      <th>13054</th>\n",
       "      <td>36</td>\n",
       "      <td>90.50</td>\n",
       "      <td>1.785</td>\n",
       "      <td>28.403518</td>\n",
       "      <td>14.7</td>\n",
       "      <td>64.0</td>\n",
       "      <td>45.0</td>\n",
       "      <td>0.264</td>\n",
       "      <td>2.62</td>\n",
       "      <td>87.0</td>\n",
       "      <td>125.0</td>\n",
       "      <td>1</td>\n",
       "      <td>2</td>\n",
       "    </tr>\n",
       "    <tr>\n",
       "      <th>11825</th>\n",
       "      <td>29</td>\n",
       "      <td>85.50</td>\n",
       "      <td>1.823</td>\n",
       "      <td>25.727215</td>\n",
       "      <td>17.7</td>\n",
       "      <td>49.5</td>\n",
       "      <td>43.0</td>\n",
       "      <td>0.122</td>\n",
       "      <td>2.54</td>\n",
       "      <td>76.0</td>\n",
       "      <td>122.0</td>\n",
       "      <td>1</td>\n",
       "      <td>3</td>\n",
       "    </tr>\n",
       "    <tr>\n",
       "      <th>1326</th>\n",
       "      <td>53</td>\n",
       "      <td>88.48</td>\n",
       "      <td>1.773</td>\n",
       "      <td>28.146710</td>\n",
       "      <td>35.6</td>\n",
       "      <td>36.3</td>\n",
       "      <td>18.0</td>\n",
       "      <td>0.064</td>\n",
       "      <td>1.83</td>\n",
       "      <td>76.0</td>\n",
       "      <td>130.0</td>\n",
       "      <td>1</td>\n",
       "      <td>3</td>\n",
       "    </tr>\n",
       "  </tbody>\n",
       "</table>\n",
       "</div>"
      ],
      "text/plain": [
       "       age  weight_kg  height_m        bmi  body_fat_percent  grip_force  \\\n",
       "10773   21      71.50     1.751  23.320279              21.1        33.0   \n",
       "5496    42      67.30     1.623  25.549242              18.0        48.5   \n",
       "13054   36      90.50     1.785  28.403518              14.7        64.0   \n",
       "11825   29      85.50     1.823  25.727215              17.7        49.5   \n",
       "1326    53      88.48     1.773  28.146710              35.6        36.3   \n",
       "\n",
       "       sit_ups_counts  sit_and_bend_forward_m  broad_jump_m  diastolic  \\\n",
       "10773            26.0                   0.103          1.82       94.0   \n",
       "5496             52.0                   0.152          2.19       64.0   \n",
       "13054            45.0                   0.264          2.62       87.0   \n",
       "11825            43.0                   0.122          2.54       76.0   \n",
       "1326             18.0                   0.064          1.83       76.0   \n",
       "\n",
       "       systolic  gender  encoded_class  \n",
       "10773     138.0       1              3  \n",
       "5496      130.0       1              0  \n",
       "13054     125.0       1              2  \n",
       "11825     122.0       1              3  \n",
       "1326      130.0       1              3  "
      ]
     },
     "execution_count": 52,
     "metadata": {},
     "output_type": "execute_result"
    }
   ],
   "source": [
    "df.sample(n=5,random_state=42)"
   ]
  },
  {
   "cell_type": "code",
   "execution_count": 53,
   "metadata": {},
   "outputs": [],
   "source": [
    "df2 = pd.read_csv(\"../classify/classification_dataset_two.csv\")"
   ]
  },
  {
   "cell_type": "code",
   "execution_count": 54,
   "metadata": {},
   "outputs": [
    {
     "data": {
      "text/html": [
       "<div>\n",
       "<style scoped>\n",
       "    .dataframe tbody tr th:only-of-type {\n",
       "        vertical-align: middle;\n",
       "    }\n",
       "\n",
       "    .dataframe tbody tr th {\n",
       "        vertical-align: top;\n",
       "    }\n",
       "\n",
       "    .dataframe thead th {\n",
       "        text-align: right;\n",
       "    }\n",
       "</style>\n",
       "<table border=\"1\" class=\"dataframe\">\n",
       "  <thead>\n",
       "    <tr style=\"text-align: right;\">\n",
       "      <th></th>\n",
       "      <th>age</th>\n",
       "      <th>weight_kg</th>\n",
       "      <th>height_m</th>\n",
       "      <th>bmi</th>\n",
       "      <th>body_fat_percent</th>\n",
       "      <th>grip_force</th>\n",
       "      <th>sit_ups_counts</th>\n",
       "      <th>sit_and_bend_forward_m</th>\n",
       "      <th>broad_jump_m</th>\n",
       "      <th>diastolic</th>\n",
       "      <th>systolic</th>\n",
       "      <th>gender</th>\n",
       "      <th>encoded_class</th>\n",
       "      <th>clusters</th>\n",
       "    </tr>\n",
       "  </thead>\n",
       "  <tbody>\n",
       "    <tr>\n",
       "      <th>10773</th>\n",
       "      <td>0.339061</td>\n",
       "      <td>-0.294852</td>\n",
       "      <td>-0.373151</td>\n",
       "      <td>-0.964558</td>\n",
       "      <td>1.415270</td>\n",
       "      <td>0.527696</td>\n",
       "      <td>3.091042</td>\n",
       "      <td>3.191311</td>\n",
       "      <td>1.751</td>\n",
       "      <td>0.103</td>\n",
       "      <td>1.82</td>\n",
       "      <td>1</td>\n",
       "      <td>3</td>\n",
       "      <td>4</td>\n",
       "    </tr>\n",
       "    <tr>\n",
       "      <th>5496</th>\n",
       "      <td>-0.012444</td>\n",
       "      <td>-0.722051</td>\n",
       "      <td>1.085732</td>\n",
       "      <td>0.856633</td>\n",
       "      <td>-1.377567</td>\n",
       "      <td>-0.016189</td>\n",
       "      <td>3.761200</td>\n",
       "      <td>3.279001</td>\n",
       "      <td>1.623</td>\n",
       "      <td>0.152</td>\n",
       "      <td>2.19</td>\n",
       "      <td>1</td>\n",
       "      <td>0</td>\n",
       "      <td>3</td>\n",
       "    </tr>\n",
       "    <tr>\n",
       "      <th>13054</th>\n",
       "      <td>1.929204</td>\n",
       "      <td>-1.176813</td>\n",
       "      <td>2.544616</td>\n",
       "      <td>0.366313</td>\n",
       "      <td>0.763608</td>\n",
       "      <td>-0.356117</td>\n",
       "      <td>3.610918</td>\n",
       "      <td>3.381114</td>\n",
       "      <td>1.785</td>\n",
       "      <td>0.264</td>\n",
       "      <td>2.62</td>\n",
       "      <td>1</td>\n",
       "      <td>2</td>\n",
       "      <td>0</td>\n",
       "    </tr>\n",
       "    <tr>\n",
       "      <th>11825</th>\n",
       "      <td>1.510745</td>\n",
       "      <td>-0.763393</td>\n",
       "      <td>1.179854</td>\n",
       "      <td>0.226221</td>\n",
       "      <td>-0.260432</td>\n",
       "      <td>-0.560074</td>\n",
       "      <td>3.401197</td>\n",
       "      <td>3.285682</td>\n",
       "      <td>1.823</td>\n",
       "      <td>0.122</td>\n",
       "      <td>2.54</td>\n",
       "      <td>1</td>\n",
       "      <td>3</td>\n",
       "      <td>3</td>\n",
       "    </tr>\n",
       "    <tr>\n",
       "      <th>1326</th>\n",
       "      <td>1.760147</td>\n",
       "      <td>1.703341</td>\n",
       "      <td>-0.062550</td>\n",
       "      <td>-1.524925</td>\n",
       "      <td>-0.260432</td>\n",
       "      <td>-0.016189</td>\n",
       "      <td>3.988984</td>\n",
       "      <td>3.372342</td>\n",
       "      <td>1.773</td>\n",
       "      <td>0.064</td>\n",
       "      <td>1.83</td>\n",
       "      <td>1</td>\n",
       "      <td>3</td>\n",
       "      <td>4</td>\n",
       "    </tr>\n",
       "  </tbody>\n",
       "</table>\n",
       "</div>"
      ],
      "text/plain": [
       "            age  weight_kg  height_m       bmi  body_fat_percent  grip_force  \\\n",
       "10773  0.339061  -0.294852 -0.373151 -0.964558          1.415270    0.527696   \n",
       "5496  -0.012444  -0.722051  1.085732  0.856633         -1.377567   -0.016189   \n",
       "13054  1.929204  -1.176813  2.544616  0.366313          0.763608   -0.356117   \n",
       "11825  1.510745  -0.763393  1.179854  0.226221         -0.260432   -0.560074   \n",
       "1326   1.760147   1.703341 -0.062550 -1.524925         -0.260432   -0.016189   \n",
       "\n",
       "       sit_ups_counts  sit_and_bend_forward_m  broad_jump_m  diastolic  \\\n",
       "10773        3.091042                3.191311         1.751      0.103   \n",
       "5496         3.761200                3.279001         1.623      0.152   \n",
       "13054        3.610918                3.381114         1.785      0.264   \n",
       "11825        3.401197                3.285682         1.823      0.122   \n",
       "1326         3.988984                3.372342         1.773      0.064   \n",
       "\n",
       "       systolic  gender  encoded_class  clusters  \n",
       "10773      1.82       1              3         4  \n",
       "5496       2.19       1              0         3  \n",
       "13054      2.62       1              2         0  \n",
       "11825      2.54       1              3         3  \n",
       "1326       1.83       1              3         4  "
      ]
     },
     "execution_count": 54,
     "metadata": {},
     "output_type": "execute_result"
    }
   ],
   "source": [
    "df2.sample(n=5,random_state=42)"
   ]
  },
  {
   "cell_type": "code",
   "execution_count": 55,
   "metadata": {},
   "outputs": [],
   "source": [
    "df['clusters'] = df2['clusters']"
   ]
  },
  {
   "cell_type": "code",
   "execution_count": 56,
   "metadata": {},
   "outputs": [
    {
     "data": {
      "text/html": [
       "<div>\n",
       "<style scoped>\n",
       "    .dataframe tbody tr th:only-of-type {\n",
       "        vertical-align: middle;\n",
       "    }\n",
       "\n",
       "    .dataframe tbody tr th {\n",
       "        vertical-align: top;\n",
       "    }\n",
       "\n",
       "    .dataframe thead th {\n",
       "        text-align: right;\n",
       "    }\n",
       "</style>\n",
       "<table border=\"1\" class=\"dataframe\">\n",
       "  <thead>\n",
       "    <tr style=\"text-align: right;\">\n",
       "      <th></th>\n",
       "      <th>age</th>\n",
       "      <th>weight_kg</th>\n",
       "      <th>height_m</th>\n",
       "      <th>bmi</th>\n",
       "      <th>body_fat_percent</th>\n",
       "      <th>grip_force</th>\n",
       "      <th>sit_ups_counts</th>\n",
       "      <th>sit_and_bend_forward_m</th>\n",
       "      <th>broad_jump_m</th>\n",
       "      <th>diastolic</th>\n",
       "      <th>systolic</th>\n",
       "      <th>gender</th>\n",
       "      <th>encoded_class</th>\n",
       "      <th>clusters</th>\n",
       "    </tr>\n",
       "  </thead>\n",
       "  <tbody>\n",
       "    <tr>\n",
       "      <th>10773</th>\n",
       "      <td>21</td>\n",
       "      <td>71.50</td>\n",
       "      <td>1.751</td>\n",
       "      <td>23.320279</td>\n",
       "      <td>21.1</td>\n",
       "      <td>33.0</td>\n",
       "      <td>26.0</td>\n",
       "      <td>0.103</td>\n",
       "      <td>1.82</td>\n",
       "      <td>94.0</td>\n",
       "      <td>138.0</td>\n",
       "      <td>1</td>\n",
       "      <td>3</td>\n",
       "      <td>4</td>\n",
       "    </tr>\n",
       "    <tr>\n",
       "      <th>5496</th>\n",
       "      <td>42</td>\n",
       "      <td>67.30</td>\n",
       "      <td>1.623</td>\n",
       "      <td>25.549242</td>\n",
       "      <td>18.0</td>\n",
       "      <td>48.5</td>\n",
       "      <td>52.0</td>\n",
       "      <td>0.152</td>\n",
       "      <td>2.19</td>\n",
       "      <td>64.0</td>\n",
       "      <td>130.0</td>\n",
       "      <td>1</td>\n",
       "      <td>0</td>\n",
       "      <td>3</td>\n",
       "    </tr>\n",
       "    <tr>\n",
       "      <th>13054</th>\n",
       "      <td>36</td>\n",
       "      <td>90.50</td>\n",
       "      <td>1.785</td>\n",
       "      <td>28.403518</td>\n",
       "      <td>14.7</td>\n",
       "      <td>64.0</td>\n",
       "      <td>45.0</td>\n",
       "      <td>0.264</td>\n",
       "      <td>2.62</td>\n",
       "      <td>87.0</td>\n",
       "      <td>125.0</td>\n",
       "      <td>1</td>\n",
       "      <td>2</td>\n",
       "      <td>0</td>\n",
       "    </tr>\n",
       "    <tr>\n",
       "      <th>11825</th>\n",
       "      <td>29</td>\n",
       "      <td>85.50</td>\n",
       "      <td>1.823</td>\n",
       "      <td>25.727215</td>\n",
       "      <td>17.7</td>\n",
       "      <td>49.5</td>\n",
       "      <td>43.0</td>\n",
       "      <td>0.122</td>\n",
       "      <td>2.54</td>\n",
       "      <td>76.0</td>\n",
       "      <td>122.0</td>\n",
       "      <td>1</td>\n",
       "      <td>3</td>\n",
       "      <td>3</td>\n",
       "    </tr>\n",
       "    <tr>\n",
       "      <th>1326</th>\n",
       "      <td>53</td>\n",
       "      <td>88.48</td>\n",
       "      <td>1.773</td>\n",
       "      <td>28.146710</td>\n",
       "      <td>35.6</td>\n",
       "      <td>36.3</td>\n",
       "      <td>18.0</td>\n",
       "      <td>0.064</td>\n",
       "      <td>1.83</td>\n",
       "      <td>76.0</td>\n",
       "      <td>130.0</td>\n",
       "      <td>1</td>\n",
       "      <td>3</td>\n",
       "      <td>4</td>\n",
       "    </tr>\n",
       "  </tbody>\n",
       "</table>\n",
       "</div>"
      ],
      "text/plain": [
       "       age  weight_kg  height_m        bmi  body_fat_percent  grip_force  \\\n",
       "10773   21      71.50     1.751  23.320279              21.1        33.0   \n",
       "5496    42      67.30     1.623  25.549242              18.0        48.5   \n",
       "13054   36      90.50     1.785  28.403518              14.7        64.0   \n",
       "11825   29      85.50     1.823  25.727215              17.7        49.5   \n",
       "1326    53      88.48     1.773  28.146710              35.6        36.3   \n",
       "\n",
       "       sit_ups_counts  sit_and_bend_forward_m  broad_jump_m  diastolic  \\\n",
       "10773            26.0                   0.103          1.82       94.0   \n",
       "5496             52.0                   0.152          2.19       64.0   \n",
       "13054            45.0                   0.264          2.62       87.0   \n",
       "11825            43.0                   0.122          2.54       76.0   \n",
       "1326             18.0                   0.064          1.83       76.0   \n",
       "\n",
       "       systolic  gender  encoded_class  clusters  \n",
       "10773     138.0       1              3         4  \n",
       "5496      130.0       1              0         3  \n",
       "13054     125.0       1              2         0  \n",
       "11825     122.0       1              3         3  \n",
       "1326      130.0       1              3         4  "
      ]
     },
     "execution_count": 56,
     "metadata": {},
     "output_type": "execute_result"
    }
   ],
   "source": [
    "df.sample(random_state=42,n=5)"
   ]
  },
  {
   "cell_type": "code",
   "execution_count": 57,
   "metadata": {},
   "outputs": [],
   "source": [
    "from sklearn.compose import ColumnTransformer\n",
    "from sklearn.preprocessing import StandardScaler,FunctionTransformer,MinMaxScaler,RobustScaler\n",
    "from sklearn.linear_model import Ridge,Lasso,LinearRegression\n",
    "from sklearn.pipeline import Pipeline\n",
    "from sklearn.model_selection import  GridSearchCV,ShuffleSplit,train_test_split\n",
    "from sklearn.metrics import mean_squared_error"
   ]
  },
  {
   "cell_type": "markdown",
   "metadata": {},
   "source": [
    "### **Using bins**"
   ]
  },
  {
   "cell_type": "code",
   "execution_count": 58,
   "metadata": {},
   "outputs": [],
   "source": [
    "X = df.drop(columns=['age'])\n",
    "y = df['age']"
   ]
  },
  {
   "cell_type": "code",
   "execution_count": 59,
   "metadata": {},
   "outputs": [],
   "source": [
    "# Using bins\n",
    "for col in X.columns:\n",
    "    bins = np.linspace(X[col].min(),X[col].max(),2)\n",
    "    bin_s = np.digitize(X[col],bins=bins)\n",
    "    X[f\"{col}_binned\"] = bin_s\n",
    "    X[f\"{col}_binned\"] = X[f\"{col}_binned\"].apply(lambda x:str(x))"
   ]
  },
  {
   "cell_type": "code",
   "execution_count": 60,
   "metadata": {},
   "outputs": [
    {
     "data": {
      "text/plain": [
       "Index(['weight_kg', 'height_m', 'bmi', 'body_fat_percent', 'grip_force',\n",
       "       'sit_ups_counts', 'sit_and_bend_forward_m', 'broad_jump_m', 'diastolic',\n",
       "       'systolic', 'gender', 'encoded_class', 'clusters', 'weight_kg_binned',\n",
       "       'height_m_binned', 'bmi_binned', 'body_fat_percent_binned',\n",
       "       'grip_force_binned', 'sit_ups_counts_binned',\n",
       "       'sit_and_bend_forward_m_binned', 'broad_jump_m_binned',\n",
       "       'diastolic_binned', 'systolic_binned', 'gender_binned',\n",
       "       'encoded_class_binned', 'clusters_binned'],\n",
       "      dtype='object')"
      ]
     },
     "execution_count": 60,
     "metadata": {},
     "output_type": "execute_result"
    }
   ],
   "source": [
    "X.columns"
   ]
  },
  {
   "cell_type": "code",
   "execution_count": 61,
   "metadata": {},
   "outputs": [],
   "source": [
    "drops = ['weight_kg', 'height_m', 'bmi', 'body_fat_percent', 'grip_force',\n",
    "       'sit_ups_counts', 'sit_and_bend_forward_m', 'broad_jump_m', 'diastolic',\n",
    "       'systolic', 'gender', 'encoded_class', 'clusters']\n",
    "X.drop(columns=drops,inplace=True)"
   ]
  },
  {
   "cell_type": "code",
   "execution_count": 62,
   "metadata": {},
   "outputs": [
    {
     "data": {
      "text/plain": [
       "Index(['weight_kg_binned', 'height_m_binned', 'bmi_binned',\n",
       "       'body_fat_percent_binned', 'grip_force_binned', 'sit_ups_counts_binned',\n",
       "       'sit_and_bend_forward_m_binned', 'broad_jump_m_binned',\n",
       "       'diastolic_binned', 'systolic_binned', 'gender_binned',\n",
       "       'encoded_class_binned', 'clusters_binned'],\n",
       "      dtype='object')"
      ]
     },
     "execution_count": 62,
     "metadata": {},
     "output_type": "execute_result"
    }
   ],
   "source": [
    "X.columns"
   ]
  },
  {
   "cell_type": "code",
   "execution_count": 63,
   "metadata": {},
   "outputs": [],
   "source": [
    "X_train,X_test, y_train,y_test = train_test_split(X,y,random_state=42,test_size=.20)"
   ]
  },
  {
   "cell_type": "code",
   "execution_count": 64,
   "metadata": {},
   "outputs": [
    {
     "data": {
      "text/plain": [
       "LinearRegression()"
      ]
     },
     "execution_count": 64,
     "metadata": {},
     "output_type": "execute_result"
    }
   ],
   "source": [
    "reg = LinearRegression()\n",
    "reg.fit(X_train,y_train)"
   ]
  },
  {
   "cell_type": "code",
   "execution_count": 65,
   "metadata": {},
   "outputs": [
    {
     "name": "stdout",
     "output_type": "stream",
     "text": [
      "[-9.22546859e+00  1.11022302e-14 -8.06257000e+00 -1.38104480e+01\n",
      " -5.81044802e+00 -1.77635684e-15 -1.81044802e+00 -1.38104480e+01\n",
      " -1.23304101e+01  0.00000000e+00 -3.17853176e+00  7.35902129e-02\n",
      "  4.34143035e+00] \n",
      "\n",
      "13 \n",
      "\n",
      "101.61273178303068 \n",
      "\n",
      "['weight_kg_binned' 'height_m_binned' 'bmi_binned'\n",
      " 'body_fat_percent_binned' 'grip_force_binned' 'sit_ups_counts_binned'\n",
      " 'sit_and_bend_forward_m_binned' 'broad_jump_m_binned' 'diastolic_binned'\n",
      " 'systolic_binned' 'gender_binned' 'encoded_class_binned'\n",
      " 'clusters_binned'] \n",
      "\n"
     ]
    }
   ],
   "source": [
    "print(reg.coef_,\"\\n\") # Coefficients\n",
    "print(reg.n_features_in_,\"\\n\") # Number of feaetures present\n",
    "print(reg.intercept_,\"\\n\") # intercept\n",
    "print(reg.feature_names_in_,\"\\n\")# Named features"
   ]
  },
  {
   "cell_type": "code",
   "execution_count": 66,
   "metadata": {},
   "outputs": [
    {
     "data": {
      "text/plain": [
       "<matplotlib.legend.Legend at 0x231a27768b0>"
      ]
     },
     "execution_count": 66,
     "metadata": {},
     "output_type": "execute_result"
    },
    {
     "data": {
      "image/png": "[encoded data removed]",
      "text/plain": [
       "<Figure size 640x480 with 1 Axes>"
      ]
     },
     "metadata": {},
     "output_type": "display_data"
    }
   ],
   "source": [
    "plt.plot(reg.coef_, 'o', label=\"LinearRegression\")\n",
    "plt.xlabel(\"Coefficient index\")\n",
    "plt.ylabel(\"Coefficient magnitude\")\n",
    "plt.hlines(0, 0, len(reg.coef_))\n",
    "plt.ylim(-100, 100)\n",
    "plt.legend()"
   ]
  },
  {
   "cell_type": "code",
   "execution_count": 67,
   "metadata": {},
   "outputs": [
    {
     "name": "stdout",
     "output_type": "stream",
     "text": [
      "RMSE test: 13.0\n",
      "Accuracy score (r^2): 0.01\n",
      "Standard Deviation of Price: 13.626\n"
     ]
    }
   ],
   "source": [
    "# grid.predict(X_test)\n",
    "y_pred_test = reg.predict(X_test) # prediction\n",
    "print(f'RMSE test: {np.around((mean_squared_error(y_test, y_pred_test,squared=False)))}') # RMSE scoe\n",
    "print(f\"Accuracy score (r^2): {np.around(reg.score(X_test, y_test),3)}\") # r^2 score\n",
    "print(f'Standard Deviation of Price: {np.around(df.age.std(),3)}') # std of age\n",
    "# RMSE score is lower than std of age; Algorithm does well?"
   ]
  },
  {
   "cell_type": "code",
   "execution_count": 68,
   "metadata": {},
   "outputs": [
    {
     "data": {
      "text/html": [
       "<div>\n",
       "<style scoped>\n",
       "    .dataframe tbody tr th:only-of-type {\n",
       "        vertical-align: middle;\n",
       "    }\n",
       "\n",
       "    .dataframe tbody tr th {\n",
       "        vertical-align: top;\n",
       "    }\n",
       "\n",
       "    .dataframe thead th {\n",
       "        text-align: right;\n",
       "    }\n",
       "</style>\n",
       "<table border=\"1\" class=\"dataframe\">\n",
       "  <thead>\n",
       "    <tr style=\"text-align: right;\">\n",
       "      <th></th>\n",
       "      <th>predicted_age</th>\n",
       "      <th>actual_age</th>\n",
       "      <th>percentage_error</th>\n",
       "    </tr>\n",
       "  </thead>\n",
       "  <tbody>\n",
       "    <tr>\n",
       "      <th>10773</th>\n",
       "      <td>39</td>\n",
       "      <td>21</td>\n",
       "      <td>85.714286</td>\n",
       "    </tr>\n",
       "    <tr>\n",
       "      <th>5496</th>\n",
       "      <td>34</td>\n",
       "      <td>42</td>\n",
       "      <td>-19.047619</td>\n",
       "    </tr>\n",
       "    <tr>\n",
       "      <th>13054</th>\n",
       "      <td>34</td>\n",
       "      <td>36</td>\n",
       "      <td>-5.555556</td>\n",
       "    </tr>\n",
       "    <tr>\n",
       "      <th>11825</th>\n",
       "      <td>34</td>\n",
       "      <td>29</td>\n",
       "      <td>17.241379</td>\n",
       "    </tr>\n",
       "    <tr>\n",
       "      <th>1326</th>\n",
       "      <td>39</td>\n",
       "      <td>53</td>\n",
       "      <td>-26.415094</td>\n",
       "    </tr>\n",
       "  </tbody>\n",
       "</table>\n",
       "</div>"
      ],
      "text/plain": [
       "       predicted_age  actual_age  percentage_error\n",
       "10773             39          21         85.714286\n",
       "5496              34          42        -19.047619\n",
       "13054             34          36         -5.555556\n",
       "11825             34          29         17.241379\n",
       "1326              39          53        -26.415094"
      ]
     },
     "execution_count": 68,
     "metadata": {},
     "output_type": "execute_result"
    }
   ],
   "source": [
    "percent_error = 100* ((y_pred_test.astype(np.int8)-y_test)/y_test)\n",
    "data = {\n",
    "    'predicted_age':y_pred_test.astype(np.int8),'actual_age':y_test,\"percentage_error\":percent_error\n",
    "}\n",
    "predictions_frame = pd.DataFrame(data)\n",
    "predictions_frame.to_csv(\"predictions/bins.csv\",index=True)\n",
    "predictions_frame.head(5)"
   ]
  },
  {
   "cell_type": "code",
   "execution_count": 69,
   "metadata": {},
   "outputs": [
    {
     "data": {
      "text/plain": [
       "51"
      ]
     },
     "execution_count": 69,
     "metadata": {},
     "output_type": "execute_result"
    }
   ],
   "source": [
    "cond = predictions_frame.percentage_error == 0\n",
    "predictions_frame[cond].value_counts().sum() # only 51 values are predicted correctly"
   ]
  },
  {
   "cell_type": "code",
   "execution_count": 70,
   "metadata": {},
   "outputs": [
    {
     "data": {
      "text/plain": [
       "Text(0, 0.5, 'Actual Age')"
      ]
     },
     "execution_count": 70,
     "metadata": {},
     "output_type": "execute_result"
    },
    {
     "data": {
      "image/png": "[encoded data removed]",
      "text/plain": [
       "<Figure size 640x480 with 1 Axes>"
      ]
     },
     "metadata": {},
     "output_type": "display_data"
    }
   ],
   "source": [
    "# Regression plot\n",
    "sns.set_theme(style='darkgrid')\n",
    "sns.regplot(data=predictions_frame,\n",
    "        x='predicted_age',\n",
    "        y='actual_age',\n",
    "        fit_reg=True,\n",
    "        color='crimson',\n",
    "        marker='.')\n",
    "plt.title('Regression Plot of Predicted Age vs. Actual Age')\n",
    "plt.xlabel('Predicted Age')\n",
    "plt.ylabel('Actual Age')"
   ]
  },
  {
   "cell_type": "markdown",
   "metadata": {},
   "source": [
    "### **Using bins with interactions (no dropping of original data)**"
   ]
  },
  {
   "cell_type": "code",
   "execution_count": 71,
   "metadata": {},
   "outputs": [],
   "source": [
    "X = df.drop(columns=['age'])\n",
    "y = df['age']"
   ]
  },
  {
   "cell_type": "code",
   "execution_count": 72,
   "metadata": {},
   "outputs": [],
   "source": [
    "# Using bins\n",
    "for col in X.columns:\n",
    "    bins = np.linspace(X[col].min(),X[col].max(),2)\n",
    "    bin_s = np.digitize(X[col],bins=bins)\n",
    "    X[f\"{col}_binned\"] = bin_s\n",
    "    X[f\"{col}_binned\"] = X[f\"{col}_binned\"].apply(lambda x:str(x))"
   ]
  },
  {
   "cell_type": "code",
   "execution_count": 73,
   "metadata": {},
   "outputs": [
    {
     "data": {
      "text/plain": [
       "Index(['weight_kg', 'height_m', 'bmi', 'body_fat_percent', 'grip_force',\n",
       "       'sit_ups_counts', 'sit_and_bend_forward_m', 'broad_jump_m', 'diastolic',\n",
       "       'systolic', 'gender', 'encoded_class', 'clusters', 'weight_kg_binned',\n",
       "       'height_m_binned', 'bmi_binned', 'body_fat_percent_binned',\n",
       "       'grip_force_binned', 'sit_ups_counts_binned',\n",
       "       'sit_and_bend_forward_m_binned', 'broad_jump_m_binned',\n",
       "       'diastolic_binned', 'systolic_binned', 'gender_binned',\n",
       "       'encoded_class_binned', 'clusters_binned'],\n",
       "      dtype='object')"
      ]
     },
     "execution_count": 73,
     "metadata": {},
     "output_type": "execute_result"
    }
   ],
   "source": [
    "X.columns"
   ]
  },
  {
   "cell_type": "code",
   "execution_count": 74,
   "metadata": {},
   "outputs": [],
   "source": [
    "# drops = ['weight_kg', 'height_m', 'bmi', 'body_fat_percent', 'grip_force',\n",
    "#        'sit_ups_counts', 'sit_and_bend_forward_m', 'broad_jump_m', 'diastolic',\n",
    "#        'systolic', 'gender', 'encoded_class', 'clusters']\n",
    "# X.drop(columns=drops,inplace=True)"
   ]
  },
  {
   "cell_type": "code",
   "execution_count": 75,
   "metadata": {},
   "outputs": [],
   "source": [
    "X_train,X_test, y_train,y_test = train_test_split(X,y,random_state=42,test_size=.20)"
   ]
  },
  {
   "cell_type": "code",
   "execution_count": 76,
   "metadata": {},
   "outputs": [
    {
     "data": {
      "text/plain": [
       "LinearRegression()"
      ]
     },
     "execution_count": 76,
     "metadata": {},
     "output_type": "execute_result"
    }
   ],
   "source": [
    "reg = LinearRegression()\n",
    "reg.fit(X_train,y_train)"
   ]
  },
  {
   "cell_type": "code",
   "execution_count": 77,
   "metadata": {},
   "outputs": [
    {
     "name": "stdout",
     "output_type": "stream",
     "text": [
      "[-1.38014238e-01 -2.32158331e+01  8.48995159e-01 -2.67941241e-01\n",
      "  3.13704612e-02 -6.09207724e-01  1.74271693e+00 -1.58696900e+01\n",
      "  4.21510630e-02  1.23210024e-01  7.88493054e+00 -3.82406285e+00\n",
      "  2.47787123e-01 -9.08272136e+00  1.37667655e-14 -2.43335504e+01\n",
      "  9.95938889e+00 -8.54907712e+00  0.00000000e+00 -7.35912330e-01\n",
      "  1.42522032e+01  3.64203151e-02  0.00000000e+00  7.88493054e+00\n",
      " -2.07064335e+00 -2.17566445e-01] \n",
      "\n",
      "26 \n",
      "\n",
      "113.7802375051296 \n",
      "\n",
      "['weight_kg' 'height_m' 'bmi' 'body_fat_percent' 'grip_force'\n",
      " 'sit_ups_counts' 'sit_and_bend_forward_m' 'broad_jump_m' 'diastolic'\n",
      " 'systolic' 'gender' 'encoded_class' 'clusters' 'weight_kg_binned'\n",
      " 'height_m_binned' 'bmi_binned' 'body_fat_percent_binned'\n",
      " 'grip_force_binned' 'sit_ups_counts_binned'\n",
      " 'sit_and_bend_forward_m_binned' 'broad_jump_m_binned' 'diastolic_binned'\n",
      " 'systolic_binned' 'gender_binned' 'encoded_class_binned'\n",
      " 'clusters_binned'] \n",
      "\n"
     ]
    }
   ],
   "source": [
    "print(reg.coef_,\"\\n\") # Coefficients\n",
    "print(reg.n_features_in_,\"\\n\") # Number of feaetures present\n",
    "print(reg.intercept_,\"\\n\") # intercept\n",
    "print(reg.feature_names_in_,\"\\n\")# Named features"
   ]
  },
  {
   "cell_type": "code",
   "execution_count": 78,
   "metadata": {},
   "outputs": [
    {
     "data": {
      "text/plain": [
       "<matplotlib.legend.Legend at 0x231a16e2eb0>"
      ]
     },
     "execution_count": 78,
     "metadata": {},
     "output_type": "execute_result"
    },
    {
     "data": {
      "image/png": "[encoded data removed]",
      "text/plain": [
       "<Figure size 640x480 with 1 Axes>"
      ]
     },
     "metadata": {},
     "output_type": "display_data"
    }
   ],
   "source": [
    "plt.plot(reg.coef_, 'o', label=\"LinearRegression\")\n",
    "plt.xlabel(\"Coefficient index\")\n",
    "plt.ylabel(\"Coefficient magnitude\")\n",
    "plt.hlines(0, 0, len(reg.coef_))\n",
    "plt.ylim(-100, 100)\n",
    "plt.legend()"
   ]
  },
  {
   "cell_type": "code",
   "execution_count": 79,
   "metadata": {},
   "outputs": [
    {
     "name": "stdout",
     "output_type": "stream",
     "text": [
      "RMSE test: 9.0\n",
      "Accuracy score (r^2): 0.553\n",
      "Standard Deviation of Price: 13.626\n"
     ]
    }
   ],
   "source": [
    "y_pred_test = reg.predict(X_test) # prediction\n",
    "print(f'RMSE test: {np.around((mean_squared_error(y_test, y_pred_test,squared=False)))}') # RMSE scoe\n",
    "print(f\"Accuracy score (r^2): {np.around(reg.score(X_test, y_test),3)}\") # r^2 score\n",
    "print(f'Standard Deviation of Price: {np.around(df.age.std(),3)}') # std of age\n",
    "# RMSE score is lower than std of age; Algorithm does well?"
   ]
  },
  {
   "cell_type": "code",
   "execution_count": 80,
   "metadata": {},
   "outputs": [
    {
     "data": {
      "text/html": [
       "<div>\n",
       "<style scoped>\n",
       "    .dataframe tbody tr th:only-of-type {\n",
       "        vertical-align: middle;\n",
       "    }\n",
       "\n",
       "    .dataframe tbody tr th {\n",
       "        vertical-align: top;\n",
       "    }\n",
       "\n",
       "    .dataframe thead th {\n",
       "        text-align: right;\n",
       "    }\n",
       "</style>\n",
       "<table border=\"1\" class=\"dataframe\">\n",
       "  <thead>\n",
       "    <tr style=\"text-align: right;\">\n",
       "      <th></th>\n",
       "      <th>predicted_age</th>\n",
       "      <th>actual_age</th>\n",
       "      <th>percentage_error</th>\n",
       "    </tr>\n",
       "  </thead>\n",
       "  <tbody>\n",
       "    <tr>\n",
       "      <th>10773</th>\n",
       "      <td>45</td>\n",
       "      <td>21</td>\n",
       "      <td>114.285714</td>\n",
       "    </tr>\n",
       "    <tr>\n",
       "      <th>5496</th>\n",
       "      <td>41</td>\n",
       "      <td>42</td>\n",
       "      <td>-2.380952</td>\n",
       "    </tr>\n",
       "    <tr>\n",
       "      <th>13054</th>\n",
       "      <td>27</td>\n",
       "      <td>36</td>\n",
       "      <td>-25.000000</td>\n",
       "    </tr>\n",
       "    <tr>\n",
       "      <th>11825</th>\n",
       "      <td>20</td>\n",
       "      <td>29</td>\n",
       "      <td>-31.034483</td>\n",
       "    </tr>\n",
       "    <tr>\n",
       "      <th>1326</th>\n",
       "      <td>45</td>\n",
       "      <td>53</td>\n",
       "      <td>-15.094340</td>\n",
       "    </tr>\n",
       "  </tbody>\n",
       "</table>\n",
       "</div>"
      ],
      "text/plain": [
       "       predicted_age  actual_age  percentage_error\n",
       "10773             45          21        114.285714\n",
       "5496              41          42         -2.380952\n",
       "13054             27          36        -25.000000\n",
       "11825             20          29        -31.034483\n",
       "1326              45          53        -15.094340"
      ]
     },
     "execution_count": 80,
     "metadata": {},
     "output_type": "execute_result"
    }
   ],
   "source": [
    "percent_error = 100* ((y_pred_test.astype(np.int8)-y_test)/y_test)\n",
    "data = {\n",
    "    'predicted_age':y_pred_test.astype(np.int8),'actual_age':y_test,\"percentage_error\":percent_error\n",
    "}\n",
    "predictions_frame = pd.DataFrame(data)\n",
    "predictions_frame.to_csv(\"predictions/bins_interactions.csv\",index=True)\n",
    "predictions_frame.head(5)"
   ]
  },
  {
   "cell_type": "code",
   "execution_count": 81,
   "metadata": {},
   "outputs": [
    {
     "data": {
      "text/plain": [
       "101"
      ]
     },
     "execution_count": 81,
     "metadata": {},
     "output_type": "execute_result"
    }
   ],
   "source": [
    "cond = predictions_frame.percentage_error == 0\n",
    "predictions_frame[cond].value_counts().sum() # only 101 values are predicted correctly"
   ]
  },
  {
   "cell_type": "code",
   "execution_count": 82,
   "metadata": {},
   "outputs": [
    {
     "data": {
      "text/plain": [
       "Text(0, 0.5, 'Actual Age')"
      ]
     },
     "execution_count": 82,
     "metadata": {},
     "output_type": "execute_result"
    },
    {
     "data": {
      "image/png": "[encoded data removed]",
      "text/plain": [
       "<Figure size 640x480 with 1 Axes>"
      ]
     },
     "metadata": {},
     "output_type": "display_data"
    }
   ],
   "source": [
    "# Regression plot\n",
    "sns.set_theme(style='darkgrid')\n",
    "sns.regplot(data=predictions_frame,\n",
    "        x='predicted_age',\n",
    "        y='actual_age',\n",
    "        fit_reg=True,\n",
    "        color='crimson',\n",
    "        marker='.')\n",
    "plt.title('Regression Plot of Predicted Age vs. Actual Age')\n",
    "plt.xlabel('Predicted Age')\n",
    "plt.ylabel('Actual Age')"
   ]
  },
  {
   "cell_type": "markdown",
   "metadata": {},
   "source": [
    "### **Polynomials interactions**"
   ]
  },
  {
   "cell_type": "code",
   "execution_count": 83,
   "metadata": {},
   "outputs": [],
   "source": [
    "X = df.drop(columns=['age'])\n",
    "y = df['age']"
   ]
  },
  {
   "cell_type": "code",
   "execution_count": 84,
   "metadata": {},
   "outputs": [
    {
     "data": {
      "text/plain": [
       "10"
      ]
     },
     "execution_count": 84,
     "metadata": {},
     "output_type": "execute_result"
    }
   ],
   "source": [
    "X.columns[:-3].value_counts().sum()"
   ]
  },
  {
   "cell_type": "code",
   "execution_count": 85,
   "metadata": {},
   "outputs": [
    {
     "data": {
      "text/plain": [
       "Index(['weight_kg', 'height_m', 'bmi', 'body_fat_percent', 'grip_force',\n",
       "       'sit_ups_counts', 'sit_and_bend_forward_m', 'broad_jump_m', 'diastolic',\n",
       "       'systolic'],\n",
       "      dtype='object')"
      ]
     },
     "execution_count": 85,
     "metadata": {},
     "output_type": "execute_result"
    }
   ],
   "source": [
    "X.columns[:10]"
   ]
  },
  {
   "cell_type": "code",
   "execution_count": 86,
   "metadata": {},
   "outputs": [],
   "source": [
    "from sklearn.preprocessing  import PolynomialFeatures\n",
    "poly = PolynomialFeatures(degree=2,include_bias=False)"
   ]
  },
  {
   "cell_type": "code",
   "execution_count": 87,
   "metadata": {},
   "outputs": [],
   "source": [
    "column_transformer = ColumnTransformer(\n",
    "     transformers=[\n",
    "        (\n",
    "            'polynomials',poly,[0,1,2,3,4,5,6,7,8,9]\n",
    "        )\n",
    "    ], remainder='passthrough'\n",
    ")"
   ]
  },
  {
   "cell_type": "code",
   "execution_count": 88,
   "metadata": {},
   "outputs": [],
   "source": [
    "X_poly = column_transformer.fit_transform(X)"
   ]
  },
  {
   "cell_type": "code",
   "execution_count": 89,
   "metadata": {},
   "outputs": [],
   "source": [
    "X_train,X_test, y_train,y_test = train_test_split(X_poly,y,random_state=42,test_size=.20)"
   ]
  },
  {
   "cell_type": "code",
   "execution_count": 90,
   "metadata": {},
   "outputs": [
    {
     "data": {
      "text/plain": [
       "LinearRegression()"
      ]
     },
     "execution_count": 90,
     "metadata": {},
     "output_type": "execute_result"
    }
   ],
   "source": [
    "reg = LinearRegression()\n",
    "reg.fit(X_train,y_train)"
   ]
  },
  {
   "cell_type": "code",
   "execution_count": 91,
   "metadata": {},
   "outputs": [
    {
     "name": "stdout",
     "output_type": "stream",
     "text": [
      "[-5.19171693e+01 -2.92996358e+03 -1.37647859e+02 -5.98910018e+00\n",
      "  2.51426935e+00  7.88147857e+00 -2.77820413e+02 -2.54737752e+02\n",
      "  2.10846854e+00  1.77505189e+00  8.38470234e-02 -3.21993813e+00\n",
      " -3.90124124e-01 -4.18174384e-02  1.84457548e-02  6.93162668e-02\n",
      " -1.52582224e+00 -1.46028827e+00  1.70099395e-02  1.00011556e-02\n",
      "  9.37342460e+02  1.80934262e+02  3.47937995e+00 -1.34155253e+00\n",
      " -5.34403912e+00  1.90486330e+02  1.56457168e+02 -1.52377974e+00\n",
      " -8.59547090e-01  3.62366890e-01  1.07555561e-01 -7.27013977e-02\n",
      " -1.85196700e-01  6.03734452e+00  4.10406612e+00 -1.73616543e-02\n",
      " -4.75987044e-02 -2.22324695e-03  6.52778827e-03  1.25807293e-03\n",
      " -7.55341812e-01  8.87376328e-02 -1.00008151e-02  5.01369296e-03\n",
      "  1.57879587e-03 -1.26618457e-02 -2.03163819e-01  3.19078395e-01\n",
      " -2.58383511e-03  6.43327746e-04  1.88249783e-03 -5.98484804e-01\n",
      "  2.58865924e-01  3.47438823e-03 -1.19002181e-03  8.31746406e+00\n",
      " -1.48828810e+01  2.63714399e-01 -2.43846578e-01 -9.87617494e+00\n",
      " -1.18687400e-02 -5.69603404e-02 -6.18602988e-05 -3.53864265e-04\n",
      "  1.17528532e-03  1.55659190e+01 -4.54162236e+00  2.04548572e-01] \n",
      "\n",
      "68 \n",
      "\n",
      "2276.883950508833 \n",
      "\n"
     ]
    }
   ],
   "source": [
    "print(reg.coef_,\"\\n\") # Coefficients\n",
    "print(reg.n_features_in_,\"\\n\") # Number of feaetures present\n",
    "print(reg.intercept_,\"\\n\") # intercept"
   ]
  },
  {
   "cell_type": "code",
   "execution_count": 92,
   "metadata": {},
   "outputs": [
    {
     "data": {
      "text/plain": [
       "<matplotlib.legend.Legend at 0x231a3d65bb0>"
      ]
     },
     "execution_count": 92,
     "metadata": {},
     "output_type": "execute_result"
    },
    {
     "data": {
      "image/png": "[encoded data removed]",
      "text/plain": [
       "<Figure size 640x480 with 1 Axes>"
      ]
     },
     "metadata": {},
     "output_type": "display_data"
    }
   ],
   "source": [
    "plt.plot(reg.coef_, 'o', label=\"LinearRegression\")\n",
    "plt.xlabel(\"Coefficient index\")\n",
    "plt.ylabel(\"Coefficient magnitude\")\n",
    "plt.hlines(0, 0, len(reg.coef_))\n",
    "plt.ylim(-2000, 2000)\n",
    "plt.legend()"
   ]
  },
  {
   "cell_type": "code",
   "execution_count": 93,
   "metadata": {},
   "outputs": [
    {
     "name": "stdout",
     "output_type": "stream",
     "text": [
      "RMSE test: 9.0\n",
      "Accuracy score (r^2): 0.581\n",
      "Standard Deviation of Price: 13.626\n"
     ]
    }
   ],
   "source": [
    "y_pred_test = reg.predict(X_test) # prediction\n",
    "print(f'RMSE test: {np.around((mean_squared_error(y_test, y_pred_test,squared=False)))}') # RMSE scoe\n",
    "print(f\"Accuracy score (r^2): {np.around(reg.score(X_test, y_test),3)}\") # r^2 score\n",
    "print(f'Standard Deviation of Price: {np.around(df.age.std(),3)}') # std of age\n",
    "# RMSE score is lower than std of age; Algorithm does well?"
   ]
  },
  {
   "cell_type": "code",
   "execution_count": 94,
   "metadata": {},
   "outputs": [
    {
     "data": {
      "text/html": [
       "<div>\n",
       "<style scoped>\n",
       "    .dataframe tbody tr th:only-of-type {\n",
       "        vertical-align: middle;\n",
       "    }\n",
       "\n",
       "    .dataframe tbody tr th {\n",
       "        vertical-align: top;\n",
       "    }\n",
       "\n",
       "    .dataframe thead th {\n",
       "        text-align: right;\n",
       "    }\n",
       "</style>\n",
       "<table border=\"1\" class=\"dataframe\">\n",
       "  <thead>\n",
       "    <tr style=\"text-align: right;\">\n",
       "      <th></th>\n",
       "      <th>predicted_age</th>\n",
       "      <th>actual_age</th>\n",
       "      <th>percentage_error</th>\n",
       "    </tr>\n",
       "  </thead>\n",
       "  <tbody>\n",
       "    <tr>\n",
       "      <th>10773</th>\n",
       "      <td>44</td>\n",
       "      <td>21</td>\n",
       "      <td>109.523810</td>\n",
       "    </tr>\n",
       "    <tr>\n",
       "      <th>5496</th>\n",
       "      <td>38</td>\n",
       "      <td>42</td>\n",
       "      <td>-9.523810</td>\n",
       "    </tr>\n",
       "    <tr>\n",
       "      <th>13054</th>\n",
       "      <td>29</td>\n",
       "      <td>36</td>\n",
       "      <td>-19.444444</td>\n",
       "    </tr>\n",
       "    <tr>\n",
       "      <th>11825</th>\n",
       "      <td>22</td>\n",
       "      <td>29</td>\n",
       "      <td>-24.137931</td>\n",
       "    </tr>\n",
       "    <tr>\n",
       "      <th>1326</th>\n",
       "      <td>40</td>\n",
       "      <td>53</td>\n",
       "      <td>-24.528302</td>\n",
       "    </tr>\n",
       "  </tbody>\n",
       "</table>\n",
       "</div>"
      ],
      "text/plain": [
       "       predicted_age  actual_age  percentage_error\n",
       "10773             44          21        109.523810\n",
       "5496              38          42         -9.523810\n",
       "13054             29          36        -19.444444\n",
       "11825             22          29        -24.137931\n",
       "1326              40          53        -24.528302"
      ]
     },
     "execution_count": 94,
     "metadata": {},
     "output_type": "execute_result"
    }
   ],
   "source": [
    "percent_error = 100* ((y_pred_test.astype(np.int8)-y_test)/y_test)\n",
    "data = {\n",
    "    'predicted_age':y_pred_test.astype(np.int8),'actual_age':y_test,\"percentage_error\":percent_error\n",
    "}\n",
    "predictions_frame = pd.DataFrame(data)\n",
    "predictions_frame.to_csv(\"predictions/polynomials.csv\",index=True)\n",
    "predictions_frame.head(5)"
   ]
  },
  {
   "cell_type": "code",
   "execution_count": 95,
   "metadata": {},
   "outputs": [
    {
     "data": {
      "text/plain": [
       "103"
      ]
     },
     "execution_count": 95,
     "metadata": {},
     "output_type": "execute_result"
    }
   ],
   "source": [
    "cond = predictions_frame.percentage_error == 0\n",
    "predictions_frame[cond].value_counts().sum() # only 103 values are predicted correctly"
   ]
  },
  {
   "cell_type": "code",
   "execution_count": 96,
   "metadata": {},
   "outputs": [
    {
     "data": {
      "text/plain": [
       "Text(0, 0.5, 'Actual Age')"
      ]
     },
     "execution_count": 96,
     "metadata": {},
     "output_type": "execute_result"
    },
    {
     "data": {
      "image/png": "[encoded data removed]",
      "text/plain": [
       "<Figure size 640x480 with 1 Axes>"
      ]
     },
     "metadata": {},
     "output_type": "display_data"
    }
   ],
   "source": [
    "# Regression plot\n",
    "sns.set_theme(style='darkgrid')\n",
    "sns.regplot(data=predictions_frame,\n",
    "        x='predicted_age',\n",
    "        y='actual_age',\n",
    "        fit_reg=True,\n",
    "        color='crimson',\n",
    "        marker='.')\n",
    "plt.title('Regression Plot of Predicted Age vs. Actual Age')\n",
    "plt.xlabel('Predicted Age')\n",
    "plt.ylabel('Actual Age')"
   ]
  },
  {
   "cell_type": "markdown",
   "metadata": {},
   "source": [
    "### **Polynomials interactions-for loop**"
   ]
  },
  {
   "cell_type": "code",
   "execution_count": 97,
   "metadata": {},
   "outputs": [],
   "source": [
    "X = df.drop(columns=['age'])\n",
    "y = df['age']"
   ]
  },
  {
   "cell_type": "code",
   "execution_count": 98,
   "metadata": {},
   "outputs": [
    {
     "name": "stdout",
     "output_type": "stream",
     "text": [
      "Polynomial degree of 2\n",
      "RMSE test: 9.0\n",
      "Accuracy score (r^2): 0.581\n",
      "Standard Deviation of Price: 13.626\n",
      "\n",
      "Polynomial degree of 3\n",
      "RMSE test: 9.0\n",
      "Accuracy score (r^2): 0.579\n",
      "Standard Deviation of Price: 13.626\n",
      "\n",
      "Polynomial degree of 4\n",
      "RMSE test: 17.0\n",
      "Accuracy score (r^2): -0.6\n",
      "Standard Deviation of Price: 13.626\n",
      "\n",
      "Polynomial degree of 5\n",
      "RMSE test: 434.0\n",
      "Accuracy score (r^2): -1024.922\n",
      "Standard Deviation of Price: 13.626\n",
      "\n"
     ]
    }
   ],
   "source": [
    "from sklearn.preprocessing  import PolynomialFeatures\n",
    "degrees = [2,3,4,5]\n",
    "for d in degrees:\n",
    "    # Feature engineering\n",
    "    poly = PolynomialFeatures(degree=d,include_bias=False)\n",
    "\n",
    "    column_transformer = ColumnTransformer(\n",
    "     transformers=[\n",
    "        (\n",
    "            'polynomials',poly,[0,1,2,3,4,5,6,7,8,9]\n",
    "        )\n",
    "    ], remainder='passthrough'\n",
    ")\n",
    "\n",
    "    X_poly = column_transformer.fit_transform(X)\n",
    "\n",
    "    # model preparation\n",
    "    X_train,X_test, y_train,y_test = train_test_split(X_poly,y,random_state=42,test_size=.20)\n",
    "    reg = LinearRegression()\n",
    "    reg.fit(X_train,y_train)\n",
    "\n",
    "    # Testing and inference\n",
    "    y_pred_test = reg.predict(X_test) # prediction\n",
    "    print(f\"Polynomial degree of {d}\")\n",
    "    print(f'RMSE test: {np.around((mean_squared_error(y_test, y_pred_test,squared=False)))}') # RMSE scoe\n",
    "    print(f\"Accuracy score (r^2): {np.around(reg.score(X_test, y_test),3)}\") # r^2 score\n",
    "    print(f'Standard Deviation of Price: {np.around(df.age.std(),3)}\\n') # std of age\n",
    "    # RMSE score is lower than std of age; Algorithm does well?"
   ]
  },
  {
   "cell_type": "markdown",
   "metadata": {},
   "source": [
    "### **Polynomials with scaling and log transformation**"
   ]
  },
  {
   "cell_type": "code",
   "execution_count": 111,
   "metadata": {},
   "outputs": [],
   "source": [
    "X = df.drop(columns=['age'])\n",
    "y = df['age']"
   ]
  },
  {
   "cell_type": "code",
   "execution_count": 112,
   "metadata": {},
   "outputs": [],
   "source": [
    "def log_tranform(x):\n",
    "    return np.log1p(x)"
   ]
  },
  {
   "cell_type": "code",
   "execution_count": 113,
   "metadata": {},
   "outputs": [],
   "source": [
    "columns_to_scale = X.copy() # data\n",
    "standard_scaler = StandardScaler() # standard_scaler \n",
    "function_transformer = FunctionTransformer(log_tranform) # functional"
   ]
  },
  {
   "cell_type": "code",
   "execution_count": 114,
   "metadata": {},
   "outputs": [
    {
     "data": {
      "text/plain": [
       "Index(['weight_kg', 'height_m', 'bmi', 'body_fat_percent', 'grip_force',\n",
       "       'sit_ups_counts', 'sit_and_bend_forward_m', 'broad_jump_m', 'diastolic',\n",
       "       'systolic', 'gender', 'encoded_class', 'clusters'],\n",
       "      dtype='object')"
      ]
     },
     "execution_count": 114,
     "metadata": {},
     "output_type": "execute_result"
    }
   ],
   "source": [
    "X.columns"
   ]
  },
  {
   "cell_type": "code",
   "execution_count": 115,
   "metadata": {},
   "outputs": [
    {
     "data": {
      "text/html": [
       "<div>\n",
       "<style scoped>\n",
       "    .dataframe tbody tr th:only-of-type {\n",
       "        vertical-align: middle;\n",
       "    }\n",
       "\n",
       "    .dataframe tbody tr th {\n",
       "        vertical-align: top;\n",
       "    }\n",
       "\n",
       "    .dataframe thead th {\n",
       "        text-align: right;\n",
       "    }\n",
       "</style>\n",
       "<table border=\"1\" class=\"dataframe\">\n",
       "  <thead>\n",
       "    <tr style=\"text-align: right;\">\n",
       "      <th></th>\n",
       "      <th>weight_kg</th>\n",
       "      <th>height_m</th>\n",
       "      <th>bmi</th>\n",
       "      <th>body_fat_percent</th>\n",
       "      <th>grip_force</th>\n",
       "      <th>sit_ups_counts</th>\n",
       "      <th>sit_and_bend_forward_m</th>\n",
       "      <th>broad_jump_m</th>\n",
       "      <th>diastolic</th>\n",
       "      <th>systolic</th>\n",
       "      <th>gender</th>\n",
       "      <th>encoded_class</th>\n",
       "      <th>clusters</th>\n",
       "    </tr>\n",
       "  </thead>\n",
       "  <tbody>\n",
       "    <tr>\n",
       "      <th>0</th>\n",
       "      <td>75.24</td>\n",
       "      <td>1.723</td>\n",
       "      <td>25.344179</td>\n",
       "      <td>21.3</td>\n",
       "      <td>54.9</td>\n",
       "      <td>60.0</td>\n",
       "      <td>0.184</td>\n",
       "      <td>2.17</td>\n",
       "      <td>80.0</td>\n",
       "      <td>130.0</td>\n",
       "      <td>1</td>\n",
       "      <td>2</td>\n",
       "      <td>3</td>\n",
       "    </tr>\n",
       "    <tr>\n",
       "      <th>1</th>\n",
       "      <td>55.80</td>\n",
       "      <td>1.650</td>\n",
       "      <td>20.495868</td>\n",
       "      <td>15.7</td>\n",
       "      <td>36.4</td>\n",
       "      <td>53.0</td>\n",
       "      <td>0.163</td>\n",
       "      <td>2.29</td>\n",
       "      <td>77.0</td>\n",
       "      <td>126.0</td>\n",
       "      <td>1</td>\n",
       "      <td>0</td>\n",
       "      <td>3</td>\n",
       "    </tr>\n",
       "    <tr>\n",
       "      <th>2</th>\n",
       "      <td>78.00</td>\n",
       "      <td>1.796</td>\n",
       "      <td>24.181428</td>\n",
       "      <td>20.1</td>\n",
       "      <td>44.8</td>\n",
       "      <td>49.0</td>\n",
       "      <td>0.120</td>\n",
       "      <td>1.81</td>\n",
       "      <td>92.0</td>\n",
       "      <td>152.0</td>\n",
       "      <td>1</td>\n",
       "      <td>2</td>\n",
       "      <td>4</td>\n",
       "    </tr>\n",
       "    <tr>\n",
       "      <th>3</th>\n",
       "      <td>71.10</td>\n",
       "      <td>1.745</td>\n",
       "      <td>23.349562</td>\n",
       "      <td>18.4</td>\n",
       "      <td>41.4</td>\n",
       "      <td>53.0</td>\n",
       "      <td>0.152</td>\n",
       "      <td>2.19</td>\n",
       "      <td>76.0</td>\n",
       "      <td>147.0</td>\n",
       "      <td>1</td>\n",
       "      <td>1</td>\n",
       "      <td>0</td>\n",
       "    </tr>\n",
       "    <tr>\n",
       "      <th>4</th>\n",
       "      <td>67.70</td>\n",
       "      <td>1.738</td>\n",
       "      <td>22.412439</td>\n",
       "      <td>17.1</td>\n",
       "      <td>43.5</td>\n",
       "      <td>45.0</td>\n",
       "      <td>0.271</td>\n",
       "      <td>2.17</td>\n",
       "      <td>70.0</td>\n",
       "      <td>127.0</td>\n",
       "      <td>1</td>\n",
       "      <td>1</td>\n",
       "      <td>3</td>\n",
       "    </tr>\n",
       "  </tbody>\n",
       "</table>\n",
       "</div>"
      ],
      "text/plain": [
       "   weight_kg  height_m        bmi  body_fat_percent  grip_force  \\\n",
       "0      75.24     1.723  25.344179              21.3        54.9   \n",
       "1      55.80     1.650  20.495868              15.7        36.4   \n",
       "2      78.00     1.796  24.181428              20.1        44.8   \n",
       "3      71.10     1.745  23.349562              18.4        41.4   \n",
       "4      67.70     1.738  22.412439              17.1        43.5   \n",
       "\n",
       "   sit_ups_counts  sit_and_bend_forward_m  broad_jump_m  diastolic  systolic  \\\n",
       "0            60.0                   0.184          2.17       80.0     130.0   \n",
       "1            53.0                   0.163          2.29       77.0     126.0   \n",
       "2            49.0                   0.120          1.81       92.0     152.0   \n",
       "3            53.0                   0.152          2.19       76.0     147.0   \n",
       "4            45.0                   0.271          2.17       70.0     127.0   \n",
       "\n",
       "   gender  encoded_class  clusters  \n",
       "0       1              2         3  \n",
       "1       1              0         3  \n",
       "2       1              2         4  \n",
       "3       1              1         0  \n",
       "4       1              1         3  "
      ]
     },
     "execution_count": 115,
     "metadata": {},
     "output_type": "execute_result"
    }
   ],
   "source": [
    "X.head()"
   ]
  },
  {
   "cell_type": "code",
   "execution_count": 116,
   "metadata": {},
   "outputs": [],
   "source": [
    "column_transformer = ColumnTransformer(\n",
    "     transformers=[\n",
    "        (\n",
    "            'standard_scalering',standard_scaler,[0, 2, 4, 5, 8,9]\n",
    "        ),\n",
    "        (\n",
    "            'functional_transformer',function_transformer,[3]\n",
    "        )\n",
    "    ], remainder='passthrough'\n",
    ")"
   ]
  },
  {
   "cell_type": "code",
   "execution_count": 117,
   "metadata": {},
   "outputs": [],
   "source": [
    "X_transformed = column_transformer.fit_transform(X)"
   ]
  },
  {
   "cell_type": "code",
   "execution_count": 120,
   "metadata": {},
   "outputs": [
    {
     "data": {
      "text/html": [
       "<div>\n",
       "<style scoped>\n",
       "    .dataframe tbody tr th:only-of-type {\n",
       "        vertical-align: middle;\n",
       "    }\n",
       "\n",
       "    .dataframe tbody tr th {\n",
       "        vertical-align: top;\n",
       "    }\n",
       "\n",
       "    .dataframe thead th {\n",
       "        text-align: right;\n",
       "    }\n",
       "</style>\n",
       "<table border=\"1\" class=\"dataframe\">\n",
       "  <thead>\n",
       "    <tr style=\"text-align: right;\">\n",
       "      <th></th>\n",
       "      <th>weight_kg</th>\n",
       "      <th>height_m</th>\n",
       "      <th>bmi</th>\n",
       "      <th>body_fat_percent</th>\n",
       "      <th>grip_force</th>\n",
       "      <th>sit_ups_counts</th>\n",
       "      <th>sit_and_bend_forward_m</th>\n",
       "      <th>broad_jump_m</th>\n",
       "      <th>diastolic</th>\n",
       "      <th>systolic</th>\n",
       "      <th>gender</th>\n",
       "      <th>encoded_class</th>\n",
       "      <th>clusters</th>\n",
       "    </tr>\n",
       "  </thead>\n",
       "  <tbody>\n",
       "    <tr>\n",
       "      <th>0</th>\n",
       "      <td>75.24</td>\n",
       "      <td>1.723</td>\n",
       "      <td>25.344179</td>\n",
       "      <td>21.3</td>\n",
       "      <td>54.9</td>\n",
       "      <td>60.0</td>\n",
       "      <td>0.184</td>\n",
       "      <td>2.17</td>\n",
       "      <td>80.0</td>\n",
       "      <td>130.0</td>\n",
       "      <td>1</td>\n",
       "      <td>2</td>\n",
       "      <td>3</td>\n",
       "    </tr>\n",
       "  </tbody>\n",
       "</table>\n",
       "</div>"
      ],
      "text/plain": [
       "   weight_kg  height_m        bmi  body_fat_percent  grip_force  \\\n",
       "0      75.24     1.723  25.344179              21.3        54.9   \n",
       "\n",
       "   sit_ups_counts  sit_and_bend_forward_m  broad_jump_m  diastolic  systolic  \\\n",
       "0            60.0                   0.184          2.17       80.0     130.0   \n",
       "\n",
       "   gender  encoded_class  clusters  \n",
       "0       1              2         3  "
      ]
     },
     "execution_count": 120,
     "metadata": {},
     "output_type": "execute_result"
    }
   ],
   "source": [
    "X[:1]"
   ]
  },
  {
   "cell_type": "code",
   "execution_count": 119,
   "metadata": {},
   "outputs": [
    {
     "data": {
      "text/plain": [
       "array([[ 0.65206843,  0.59096553,  1.68811007,  1.41700003,  0.11194637,\n",
       "        -0.01618873,  3.10458668,  1.723     ,  0.184     ,  2.17      ,\n",
       "         1.        ,  2.        ,  3.        ]])"
      ]
     },
     "execution_count": 119,
     "metadata": {},
     "output_type": "execute_result"
    }
   ],
   "source": [
    "X_transformed[:1]"
   ]
  },
  {
   "cell_type": "code",
   "execution_count": 121,
   "metadata": {},
   "outputs": [
    {
     "name": "stdout",
     "output_type": "stream",
     "text": [
      "Polynomial degree of 2\n",
      "RMSE test: 9.0\n",
      "Accuracy score (r^2): 0.579\n",
      "Standard Deviation of Price: 13.626\n",
      "\n",
      "Polynomial degree of 3\n",
      "RMSE test: 9.0\n",
      "Accuracy score (r^2): 0.582\n",
      "Standard Deviation of Price: 13.626\n",
      "\n",
      "Polynomial degree of 4\n",
      "RMSE test: 16.0\n",
      "Accuracy score (r^2): -0.327\n",
      "Standard Deviation of Price: 13.626\n",
      "\n",
      "Polynomial degree of 5\n",
      "RMSE test: 681.0\n",
      "Accuracy score (r^2): -2517.79\n",
      "Standard Deviation of Price: 13.626\n",
      "\n"
     ]
    }
   ],
   "source": [
    "from sklearn.preprocessing  import PolynomialFeatures\n",
    "degrees = [2,3,4,5]\n",
    "for d in degrees:\n",
    "    # Feature engineering\n",
    "    poly = PolynomialFeatures(degree=d,include_bias=False)\n",
    "\n",
    "    column_transformer = ColumnTransformer(\n",
    "     transformers=[\n",
    "        (\n",
    "            'polynomials',poly,[0,1,2,3,4,5,6,7,8,9]\n",
    "        )\n",
    "    ], remainder='passthrough'\n",
    ")\n",
    "\n",
    "    X_poly = column_transformer.fit_transform(X_transformed)\n",
    "\n",
    "    # model preparation\n",
    "    X_train,X_test, y_train,y_test = train_test_split(X_poly,y,random_state=42,test_size=.20)\n",
    "    reg = LinearRegression()\n",
    "    reg.fit(X_train,y_train)\n",
    "\n",
    "    # Testing and inference\n",
    "    y_pred_test = reg.predict(X_test) # prediction\n",
    "    print(f\"Polynomial degree of {d}\")\n",
    "    print(f'RMSE test: {np.around((mean_squared_error(y_test, y_pred_test,squared=False)))}') # RMSE scoe\n",
    "    print(f\"Accuracy score (r^2): {np.around(reg.score(X_test, y_test),3)}\") # r^2 score\n",
    "    print(f'Standard Deviation of Price: {np.around(df.age.std(),3)}\\n') # std of age\n",
    "    # RMSE score is lower than std of age; Algorithm does well?"
   ]
  },
  {
   "cell_type": "markdown",
   "metadata": {},
   "source": [
    "- Not much improvement but requires a higher degree; 3, for prediction.\n",
    "- So the combination of log, scaling and polynomials isn't much useful in this data set."
   ]
  }
 ],
 "metadata": {
  "kernelspec": {
   "display_name": "Python 3.8.13",
   "language": "python",
   "name": "python3"
  },
  "language_info": {
   "codemirror_mode": {
    "name": "ipython",
    "version": 3
   },
   "file_extension": ".py",
   "mimetype": "text/x-python",
   "name": "python",
   "nbconvert_exporter": "python",
   "pygments_lexer": "ipython3",
   "version": "3.8.13"
  },
  "orig_nbformat": 4,
  "vscode": {
   "interpreter": {
    "hash": "c8e3cf4d6bb4a0ac7877b378c8a3c902fd94777f6924c9107da577688ed2ac1b"
   }
  }
 },
 "nbformat": 4,
 "nbformat_minor": 2
}
