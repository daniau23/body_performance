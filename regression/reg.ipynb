{
 "cells": [
  {
   "cell_type": "code",
   "execution_count": 1,
   "metadata": {},
   "outputs": [],
   "source": [
    "import pandas as pd\n",
    "import numpy as np \n",
    "import matplotlib.pyplot as plt\n",
    "import plotly.express as px\n",
    "import plotly.graph_objects as go\n",
    "import seaborn as sns\n",
    "import warnings\n",
    "warnings.filterwarnings(\"ignore\")"
   ]
  },
  {
   "cell_type": "code",
   "execution_count": 2,
   "metadata": {},
   "outputs": [],
   "source": [
    "df = pd.read_csv(\"../classify/classification_dataset.csv\")"
   ]
  },
  {
   "cell_type": "code",
   "execution_count": 3,
   "metadata": {},
   "outputs": [
    {
     "data": {
      "text/html": [
       "<div>\n",
       "<style scoped>\n",
       "    .dataframe tbody tr th:only-of-type {\n",
       "        vertical-align: middle;\n",
       "    }\n",
       "\n",
       "    .dataframe tbody tr th {\n",
       "        vertical-align: top;\n",
       "    }\n",
       "\n",
       "    .dataframe thead th {\n",
       "        text-align: right;\n",
       "    }\n",
       "</style>\n",
       "<table border=\"1\" class=\"dataframe\">\n",
       "  <thead>\n",
       "    <tr style=\"text-align: right;\">\n",
       "      <th></th>\n",
       "      <th>age</th>\n",
       "      <th>weight_kg</th>\n",
       "      <th>height_m</th>\n",
       "      <th>bmi</th>\n",
       "      <th>body_fat_percent</th>\n",
       "      <th>grip_force</th>\n",
       "      <th>sit_ups_counts</th>\n",
       "      <th>sit_and_bend_forward_m</th>\n",
       "      <th>broad_jump_m</th>\n",
       "      <th>diastolic</th>\n",
       "      <th>systolic</th>\n",
       "      <th>gender</th>\n",
       "      <th>encoded_class</th>\n",
       "    </tr>\n",
       "  </thead>\n",
       "  <tbody>\n",
       "    <tr>\n",
       "      <th>10773</th>\n",
       "      <td>21</td>\n",
       "      <td>71.50</td>\n",
       "      <td>1.751</td>\n",
       "      <td>23.320279</td>\n",
       "      <td>21.1</td>\n",
       "      <td>33.0</td>\n",
       "      <td>26.0</td>\n",
       "      <td>0.103</td>\n",
       "      <td>1.82</td>\n",
       "      <td>94.0</td>\n",
       "      <td>138.0</td>\n",
       "      <td>1</td>\n",
       "      <td>3</td>\n",
       "    </tr>\n",
       "    <tr>\n",
       "      <th>5496</th>\n",
       "      <td>42</td>\n",
       "      <td>67.30</td>\n",
       "      <td>1.623</td>\n",
       "      <td>25.549242</td>\n",
       "      <td>18.0</td>\n",
       "      <td>48.5</td>\n",
       "      <td>52.0</td>\n",
       "      <td>0.152</td>\n",
       "      <td>2.19</td>\n",
       "      <td>64.0</td>\n",
       "      <td>130.0</td>\n",
       "      <td>1</td>\n",
       "      <td>0</td>\n",
       "    </tr>\n",
       "    <tr>\n",
       "      <th>13054</th>\n",
       "      <td>36</td>\n",
       "      <td>90.50</td>\n",
       "      <td>1.785</td>\n",
       "      <td>28.403518</td>\n",
       "      <td>14.7</td>\n",
       "      <td>64.0</td>\n",
       "      <td>45.0</td>\n",
       "      <td>0.264</td>\n",
       "      <td>2.62</td>\n",
       "      <td>87.0</td>\n",
       "      <td>125.0</td>\n",
       "      <td>1</td>\n",
       "      <td>2</td>\n",
       "    </tr>\n",
       "    <tr>\n",
       "      <th>11825</th>\n",
       "      <td>29</td>\n",
       "      <td>85.50</td>\n",
       "      <td>1.823</td>\n",
       "      <td>25.727215</td>\n",
       "      <td>17.7</td>\n",
       "      <td>49.5</td>\n",
       "      <td>43.0</td>\n",
       "      <td>0.122</td>\n",
       "      <td>2.54</td>\n",
       "      <td>76.0</td>\n",
       "      <td>122.0</td>\n",
       "      <td>1</td>\n",
       "      <td>3</td>\n",
       "    </tr>\n",
       "    <tr>\n",
       "      <th>1326</th>\n",
       "      <td>53</td>\n",
       "      <td>88.48</td>\n",
       "      <td>1.773</td>\n",
       "      <td>28.146710</td>\n",
       "      <td>35.6</td>\n",
       "      <td>36.3</td>\n",
       "      <td>18.0</td>\n",
       "      <td>0.064</td>\n",
       "      <td>1.83</td>\n",
       "      <td>76.0</td>\n",
       "      <td>130.0</td>\n",
       "      <td>1</td>\n",
       "      <td>3</td>\n",
       "    </tr>\n",
       "  </tbody>\n",
       "</table>\n",
       "</div>"
      ],
      "text/plain": [
       "       age  weight_kg  height_m        bmi  body_fat_percent  grip_force  \\\n",
       "10773   21      71.50     1.751  23.320279              21.1        33.0   \n",
       "5496    42      67.30     1.623  25.549242              18.0        48.5   \n",
       "13054   36      90.50     1.785  28.403518              14.7        64.0   \n",
       "11825   29      85.50     1.823  25.727215              17.7        49.5   \n",
       "1326    53      88.48     1.773  28.146710              35.6        36.3   \n",
       "\n",
       "       sit_ups_counts  sit_and_bend_forward_m  broad_jump_m  diastolic  \\\n",
       "10773            26.0                   0.103          1.82       94.0   \n",
       "5496             52.0                   0.152          2.19       64.0   \n",
       "13054            45.0                   0.264          2.62       87.0   \n",
       "11825            43.0                   0.122          2.54       76.0   \n",
       "1326             18.0                   0.064          1.83       76.0   \n",
       "\n",
       "       systolic  gender  encoded_class  \n",
       "10773     138.0       1              3  \n",
       "5496      130.0       1              0  \n",
       "13054     125.0       1              2  \n",
       "11825     122.0       1              3  \n",
       "1326      130.0       1              3  "
      ]
     },
     "execution_count": 3,
     "metadata": {},
     "output_type": "execute_result"
    }
   ],
   "source": [
    "df.sample(n=5,random_state=42)"
   ]
  },
  {
   "cell_type": "code",
   "execution_count": 4,
   "metadata": {},
   "outputs": [],
   "source": [
    "df2 = pd.read_csv(\"../classify/classification_dataset_two.csv\")"
   ]
  },
  {
   "cell_type": "code",
   "execution_count": 5,
   "metadata": {},
   "outputs": [
    {
     "data": {
      "text/html": [
       "<div>\n",
       "<style scoped>\n",
       "    .dataframe tbody tr th:only-of-type {\n",
       "        vertical-align: middle;\n",
       "    }\n",
       "\n",
       "    .dataframe tbody tr th {\n",
       "        vertical-align: top;\n",
       "    }\n",
       "\n",
       "    .dataframe thead th {\n",
       "        text-align: right;\n",
       "    }\n",
       "</style>\n",
       "<table border=\"1\" class=\"dataframe\">\n",
       "  <thead>\n",
       "    <tr style=\"text-align: right;\">\n",
       "      <th></th>\n",
       "      <th>age</th>\n",
       "      <th>weight_kg</th>\n",
       "      <th>height_m</th>\n",
       "      <th>bmi</th>\n",
       "      <th>body_fat_percent</th>\n",
       "      <th>grip_force</th>\n",
       "      <th>sit_ups_counts</th>\n",
       "      <th>sit_and_bend_forward_m</th>\n",
       "      <th>broad_jump_m</th>\n",
       "      <th>diastolic</th>\n",
       "      <th>systolic</th>\n",
       "      <th>gender</th>\n",
       "      <th>encoded_class</th>\n",
       "      <th>clusters</th>\n",
       "    </tr>\n",
       "  </thead>\n",
       "  <tbody>\n",
       "    <tr>\n",
       "      <th>10773</th>\n",
       "      <td>0.339061</td>\n",
       "      <td>-0.294852</td>\n",
       "      <td>-0.373151</td>\n",
       "      <td>-0.964558</td>\n",
       "      <td>1.415270</td>\n",
       "      <td>0.527696</td>\n",
       "      <td>3.091042</td>\n",
       "      <td>3.191311</td>\n",
       "      <td>1.751</td>\n",
       "      <td>0.103</td>\n",
       "      <td>1.82</td>\n",
       "      <td>1</td>\n",
       "      <td>3</td>\n",
       "      <td>4</td>\n",
       "    </tr>\n",
       "    <tr>\n",
       "      <th>5496</th>\n",
       "      <td>-0.012444</td>\n",
       "      <td>-0.722051</td>\n",
       "      <td>1.085732</td>\n",
       "      <td>0.856633</td>\n",
       "      <td>-1.377567</td>\n",
       "      <td>-0.016189</td>\n",
       "      <td>3.761200</td>\n",
       "      <td>3.279001</td>\n",
       "      <td>1.623</td>\n",
       "      <td>0.152</td>\n",
       "      <td>2.19</td>\n",
       "      <td>1</td>\n",
       "      <td>0</td>\n",
       "      <td>3</td>\n",
       "    </tr>\n",
       "    <tr>\n",
       "      <th>13054</th>\n",
       "      <td>1.929204</td>\n",
       "      <td>-1.176813</td>\n",
       "      <td>2.544616</td>\n",
       "      <td>0.366313</td>\n",
       "      <td>0.763608</td>\n",
       "      <td>-0.356117</td>\n",
       "      <td>3.610918</td>\n",
       "      <td>3.381114</td>\n",
       "      <td>1.785</td>\n",
       "      <td>0.264</td>\n",
       "      <td>2.62</td>\n",
       "      <td>1</td>\n",
       "      <td>2</td>\n",
       "      <td>0</td>\n",
       "    </tr>\n",
       "    <tr>\n",
       "      <th>11825</th>\n",
       "      <td>1.510745</td>\n",
       "      <td>-0.763393</td>\n",
       "      <td>1.179854</td>\n",
       "      <td>0.226221</td>\n",
       "      <td>-0.260432</td>\n",
       "      <td>-0.560074</td>\n",
       "      <td>3.401197</td>\n",
       "      <td>3.285682</td>\n",
       "      <td>1.823</td>\n",
       "      <td>0.122</td>\n",
       "      <td>2.54</td>\n",
       "      <td>1</td>\n",
       "      <td>3</td>\n",
       "      <td>3</td>\n",
       "    </tr>\n",
       "    <tr>\n",
       "      <th>1326</th>\n",
       "      <td>1.760147</td>\n",
       "      <td>1.703341</td>\n",
       "      <td>-0.062550</td>\n",
       "      <td>-1.524925</td>\n",
       "      <td>-0.260432</td>\n",
       "      <td>-0.016189</td>\n",
       "      <td>3.988984</td>\n",
       "      <td>3.372342</td>\n",
       "      <td>1.773</td>\n",
       "      <td>0.064</td>\n",
       "      <td>1.83</td>\n",
       "      <td>1</td>\n",
       "      <td>3</td>\n",
       "      <td>4</td>\n",
       "    </tr>\n",
       "  </tbody>\n",
       "</table>\n",
       "</div>"
      ],
      "text/plain": [
       "            age  weight_kg  height_m       bmi  body_fat_percent  grip_force  \\\n",
       "10773  0.339061  -0.294852 -0.373151 -0.964558          1.415270    0.527696   \n",
       "5496  -0.012444  -0.722051  1.085732  0.856633         -1.377567   -0.016189   \n",
       "13054  1.929204  -1.176813  2.544616  0.366313          0.763608   -0.356117   \n",
       "11825  1.510745  -0.763393  1.179854  0.226221         -0.260432   -0.560074   \n",
       "1326   1.760147   1.703341 -0.062550 -1.524925         -0.260432   -0.016189   \n",
       "\n",
       "       sit_ups_counts  sit_and_bend_forward_m  broad_jump_m  diastolic  \\\n",
       "10773        3.091042                3.191311         1.751      0.103   \n",
       "5496         3.761200                3.279001         1.623      0.152   \n",
       "13054        3.610918                3.381114         1.785      0.264   \n",
       "11825        3.401197                3.285682         1.823      0.122   \n",
       "1326         3.988984                3.372342         1.773      0.064   \n",
       "\n",
       "       systolic  gender  encoded_class  clusters  \n",
       "10773      1.82       1              3         4  \n",
       "5496       2.19       1              0         3  \n",
       "13054      2.62       1              2         0  \n",
       "11825      2.54       1              3         3  \n",
       "1326       1.83       1              3         4  "
      ]
     },
     "execution_count": 5,
     "metadata": {},
     "output_type": "execute_result"
    }
   ],
   "source": [
    "df2.sample(n=5,random_state=42)"
   ]
  },
  {
   "cell_type": "code",
   "execution_count": 6,
   "metadata": {},
   "outputs": [],
   "source": [
    "df['clusters'] = df2['clusters']"
   ]
  },
  {
   "cell_type": "code",
   "execution_count": 7,
   "metadata": {},
   "outputs": [
    {
     "data": {
      "text/html": [
       "<div>\n",
       "<style scoped>\n",
       "    .dataframe tbody tr th:only-of-type {\n",
       "        vertical-align: middle;\n",
       "    }\n",
       "\n",
       "    .dataframe tbody tr th {\n",
       "        vertical-align: top;\n",
       "    }\n",
       "\n",
       "    .dataframe thead th {\n",
       "        text-align: right;\n",
       "    }\n",
       "</style>\n",
       "<table border=\"1\" class=\"dataframe\">\n",
       "  <thead>\n",
       "    <tr style=\"text-align: right;\">\n",
       "      <th></th>\n",
       "      <th>age</th>\n",
       "      <th>weight_kg</th>\n",
       "      <th>height_m</th>\n",
       "      <th>bmi</th>\n",
       "      <th>body_fat_percent</th>\n",
       "      <th>grip_force</th>\n",
       "      <th>sit_ups_counts</th>\n",
       "      <th>sit_and_bend_forward_m</th>\n",
       "      <th>broad_jump_m</th>\n",
       "      <th>diastolic</th>\n",
       "      <th>systolic</th>\n",
       "      <th>gender</th>\n",
       "      <th>encoded_class</th>\n",
       "      <th>clusters</th>\n",
       "    </tr>\n",
       "  </thead>\n",
       "  <tbody>\n",
       "    <tr>\n",
       "      <th>10773</th>\n",
       "      <td>21</td>\n",
       "      <td>71.50</td>\n",
       "      <td>1.751</td>\n",
       "      <td>23.320279</td>\n",
       "      <td>21.1</td>\n",
       "      <td>33.0</td>\n",
       "      <td>26.0</td>\n",
       "      <td>0.103</td>\n",
       "      <td>1.82</td>\n",
       "      <td>94.0</td>\n",
       "      <td>138.0</td>\n",
       "      <td>1</td>\n",
       "      <td>3</td>\n",
       "      <td>4</td>\n",
       "    </tr>\n",
       "    <tr>\n",
       "      <th>5496</th>\n",
       "      <td>42</td>\n",
       "      <td>67.30</td>\n",
       "      <td>1.623</td>\n",
       "      <td>25.549242</td>\n",
       "      <td>18.0</td>\n",
       "      <td>48.5</td>\n",
       "      <td>52.0</td>\n",
       "      <td>0.152</td>\n",
       "      <td>2.19</td>\n",
       "      <td>64.0</td>\n",
       "      <td>130.0</td>\n",
       "      <td>1</td>\n",
       "      <td>0</td>\n",
       "      <td>3</td>\n",
       "    </tr>\n",
       "    <tr>\n",
       "      <th>13054</th>\n",
       "      <td>36</td>\n",
       "      <td>90.50</td>\n",
       "      <td>1.785</td>\n",
       "      <td>28.403518</td>\n",
       "      <td>14.7</td>\n",
       "      <td>64.0</td>\n",
       "      <td>45.0</td>\n",
       "      <td>0.264</td>\n",
       "      <td>2.62</td>\n",
       "      <td>87.0</td>\n",
       "      <td>125.0</td>\n",
       "      <td>1</td>\n",
       "      <td>2</td>\n",
       "      <td>0</td>\n",
       "    </tr>\n",
       "    <tr>\n",
       "      <th>11825</th>\n",
       "      <td>29</td>\n",
       "      <td>85.50</td>\n",
       "      <td>1.823</td>\n",
       "      <td>25.727215</td>\n",
       "      <td>17.7</td>\n",
       "      <td>49.5</td>\n",
       "      <td>43.0</td>\n",
       "      <td>0.122</td>\n",
       "      <td>2.54</td>\n",
       "      <td>76.0</td>\n",
       "      <td>122.0</td>\n",
       "      <td>1</td>\n",
       "      <td>3</td>\n",
       "      <td>3</td>\n",
       "    </tr>\n",
       "    <tr>\n",
       "      <th>1326</th>\n",
       "      <td>53</td>\n",
       "      <td>88.48</td>\n",
       "      <td>1.773</td>\n",
       "      <td>28.146710</td>\n",
       "      <td>35.6</td>\n",
       "      <td>36.3</td>\n",
       "      <td>18.0</td>\n",
       "      <td>0.064</td>\n",
       "      <td>1.83</td>\n",
       "      <td>76.0</td>\n",
       "      <td>130.0</td>\n",
       "      <td>1</td>\n",
       "      <td>3</td>\n",
       "      <td>4</td>\n",
       "    </tr>\n",
       "  </tbody>\n",
       "</table>\n",
       "</div>"
      ],
      "text/plain": [
       "       age  weight_kg  height_m        bmi  body_fat_percent  grip_force  \\\n",
       "10773   21      71.50     1.751  23.320279              21.1        33.0   \n",
       "5496    42      67.30     1.623  25.549242              18.0        48.5   \n",
       "13054   36      90.50     1.785  28.403518              14.7        64.0   \n",
       "11825   29      85.50     1.823  25.727215              17.7        49.5   \n",
       "1326    53      88.48     1.773  28.146710              35.6        36.3   \n",
       "\n",
       "       sit_ups_counts  sit_and_bend_forward_m  broad_jump_m  diastolic  \\\n",
       "10773            26.0                   0.103          1.82       94.0   \n",
       "5496             52.0                   0.152          2.19       64.0   \n",
       "13054            45.0                   0.264          2.62       87.0   \n",
       "11825            43.0                   0.122          2.54       76.0   \n",
       "1326             18.0                   0.064          1.83       76.0   \n",
       "\n",
       "       systolic  gender  encoded_class  clusters  \n",
       "10773     138.0       1              3         4  \n",
       "5496      130.0       1              0         3  \n",
       "13054     125.0       1              2         0  \n",
       "11825     122.0       1              3         3  \n",
       "1326      130.0       1              3         4  "
      ]
     },
     "execution_count": 7,
     "metadata": {},
     "output_type": "execute_result"
    }
   ],
   "source": [
    "df.sample(random_state=42,n=5)"
   ]
  },
  {
   "cell_type": "code",
   "execution_count": 157,
   "metadata": {},
   "outputs": [],
   "source": [
    "from sklearn.compose import ColumnTransformer\n",
    "from sklearn.preprocessing import StandardScaler,FunctionTransformer,MinMaxScaler,RobustScaler\n",
    "from sklearn.linear_model import Ridge,Lasso,LinearRegression\n",
    "from sklearn.pipeline import Pipeline\n",
    "from sklearn.model_selection import  GridSearchCV,ShuffleSplit,train_test_split\n",
    "from sklearn.metrics import mean_squared_error"
   ]
  },
  {
   "cell_type": "code",
   "execution_count": 96,
   "metadata": {},
   "outputs": [],
   "source": [
    "def log_tranform(x):\n",
    "    return np.log1p(x)"
   ]
  },
  {
   "cell_type": "code",
   "execution_count": 97,
   "metadata": {},
   "outputs": [],
   "source": [
    "columns_to_scale = df.copy() # data\n",
    "standard_scaler = StandardScaler() # standard_scaler \n",
    "min_max_scaler = MinMaxScaler() # min_max_scaler \n",
    "robust_scaler = RobustScaler() # robust_scaler\n",
    "function_transformer = FunctionTransformer(log_tranform) # functional"
   ]
  },
  {
   "cell_type": "code",
   "execution_count": 98,
   "metadata": {},
   "outputs": [],
   "source": [
    "column_transformer = ColumnTransformer(\n",
    "     transformers=[\n",
    "        (\n",
    "            'standard_scalering',standard_scaler,[1, 4, 5, 6, 9, 10]\n",
    "        ),\n",
    "        (\n",
    "            'functional_transformer',function_transformer,[3]\n",
    "        )\n",
    "    ], remainder='passthrough'\n",
    ")"
   ]
  },
  {
   "cell_type": "code",
   "execution_count": 147,
   "metadata": {},
   "outputs": [],
   "source": [
    "my_pipe = Pipeline(\n",
    "    [\n",
    "        (\"composer\",column_transformer), # \n",
    "        # ('reg',Ridge(random_state=42))\n",
    "        ('reg',LinearRegression(n_jobs=-2))\n",
    "    ]\n",
    ")"
   ]
  },
  {
   "cell_type": "code",
   "execution_count": 148,
   "metadata": {},
   "outputs": [
    {
     "data": {
      "text/plain": [
       "ColumnTransformer(remainder='passthrough',\n",
       "                  transformers=[('standard_scalering', StandardScaler(),\n",
       "                                 [1, 4, 5, 6, 9, 10]),\n",
       "                                ('functional_transformer',\n",
       "                                 FunctionTransformer(func=<function log_tranform at 0x000001A9905ED940>),\n",
       "                                 [3])])"
      ]
     },
     "execution_count": 148,
     "metadata": {},
     "output_type": "execute_result"
    }
   ],
   "source": [
    "my_pipe.named_steps['composer']"
   ]
  },
  {
   "cell_type": "code",
   "execution_count": 149,
   "metadata": {},
   "outputs": [],
   "source": [
    "my_params = [\n",
    "    {\n",
    "        # Column transfomer\n",
    "        'composer':[min_max_scaler]\n",
    "        # 'composer':[min_max_scaler,robust_scaler,None]\n",
    "    },\n",
    "\n",
    "    {\n",
    "        # Ridge\n",
    "        \"reg\":[Ridge(random_state=42)],\n",
    "        # higher alpha --> higher regularistion (treats overfitting)\n",
    "        'reg__alpha':[0.01,0.1,0.5,1,5,10], \n",
    "        \"reg__max_iter\":[50,100,1000,1500],\n",
    "    },\n",
    " \n",
    "    {\n",
    "        # Lasso\n",
    "        \"reg\":[Lasso(random_state=42)],\n",
    "        # lower alpha --> higher regularistion (treats underfitting)\n",
    "        'reg__alpha':[0.01,0.1,0.5,1], \n",
    "        \"reg__max_iter\":[50,100,1000,1500],\n",
    "        \"reg__warm_start\":[True,False],\n",
    "    },\n",
    "]\n",
    "\n",
    "my_cv = ShuffleSplit(n_splits=5,test_size=.20,random_state=42)"
   ]
  },
  {
   "cell_type": "code",
   "execution_count": 150,
   "metadata": {},
   "outputs": [],
   "source": [
    "X = df.drop(columns=['age'])\n",
    "y = df['age']"
   ]
  },
  {
   "cell_type": "code",
   "execution_count": 151,
   "metadata": {},
   "outputs": [],
   "source": [
    "X_train,X_test, y_train,y_test = train_test_split(X,y,random_state=42,test_size=.20)"
   ]
  },
  {
   "cell_type": "code",
   "execution_count": 152,
   "metadata": {},
   "outputs": [
    {
     "data": {
      "text/plain": [
       "GridSearchCV(cv=ShuffleSplit(n_splits=5, random_state=42, test_size=0.2, train_size=None),\n",
       "             estimator=Pipeline(steps=[('composer',\n",
       "                                        ColumnTransformer(remainder='passthrough',\n",
       "                                                          transformers=[('standard_scalering',\n",
       "                                                                         StandardScaler(),\n",
       "                                                                         [1, 4,\n",
       "                                                                          5, 6,\n",
       "                                                                          9,\n",
       "                                                                          10]),\n",
       "                                                                        ('functional_transformer',\n",
       "                                                                         FunctionTransformer(func=<function log_tranform at 0x000001A9905ED940>),\n",
       "                                                                         [3])])),\n",
       "                                       ('reg', LinearRegression(n_jobs=-2))]),\n",
       "             param_grid=[{'composer': [MinMaxScaler()]},\n",
       "                         {'reg': [Ridge(random_state=42)],\n",
       "                          'reg__alpha': [0.01, 0.1, 0.5, 1, 5, 10],\n",
       "                          'reg__max_iter': [50, 100, 1000, 1500]},\n",
       "                         {'reg': [Lasso(random_state=42)],\n",
       "                          'reg__alpha': [0.01, 0.1, 0.5, 1],\n",
       "                          'reg__max_iter': [50, 100, 1000, 1500],\n",
       "                          'reg__warm_start': [True, False]}])"
      ]
     },
     "execution_count": 152,
     "metadata": {},
     "output_type": "execute_result"
    }
   ],
   "source": [
    "mygrid = GridSearchCV(my_pipe,param_grid=my_params,cv=my_cv)\n",
    "mygrid.fit(X_train,y_train)"
   ]
  },
  {
   "cell_type": "code",
   "execution_count": 153,
   "metadata": {},
   "outputs": [
    {
     "name": "stdout",
     "output_type": "stream",
     "text": [
      "Best params: {'composer': MinMaxScaler()}\n",
      "\n",
      "Best estimator: Pipeline(steps=[('composer', MinMaxScaler()),\n",
      "                ('reg', LinearRegression(n_jobs=-2))])\n",
      "\n",
      "Best validation score: 0.5631061061695223\n"
     ]
    }
   ],
   "source": [
    "print(f\"Best params: {mygrid.best_params_}\\n\")\n",
    "print(f\"Best estimator: {mygrid.best_estimator_}\\n\")\n",
    "print(f\"Best validation score: {mygrid.best_score_}\")"
   ]
  },
  {
   "cell_type": "code",
   "execution_count": 154,
   "metadata": {},
   "outputs": [
    {
     "name": "stdout",
     "output_type": "stream",
     "text": [
      "[-18.14801052 -11.40710799  27.34192601 -20.37315903   2.54755975\n",
      " -47.18915785   7.77514808 -48.36699412   6.1090402   24.2839336\n",
      "  15.92504465 -13.04786381   0.99250366] \n",
      "\n",
      "13 \n",
      "\n",
      "72.99120762347862 \n",
      "\n"
     ]
    }
   ],
   "source": [
    "print(mygrid.best_estimator_.named_steps['reg'].coef_,\"\\n\") # Coefficients\n",
    "print(mygrid.best_estimator_.named_steps[\"reg\"].n_features_in_,\"\\n\") # Number of feaetures present\n",
    "print(mygrid.best_estimator_.named_steps[\"reg\"].intercept_,\"\\n\") # intercept\n",
    "\n",
    "# This throws an error;\n",
    "# AttributeError: 'LinearRegression' object has no attribute 'feature_names_in_'\n",
    "# print(mygrid.best_estimator_.named_steps[\"reg\"].feature_names_in_,\"\\n\")# Named features"
   ]
  },
  {
   "cell_type": "code",
   "execution_count": 155,
   "metadata": {},
   "outputs": [
    {
     "data": {
      "text/plain": [
       "<matplotlib.legend.Legend at 0x1a990b02850>"
      ]
     },
     "execution_count": 155,
     "metadata": {},
     "output_type": "execute_result"
    },
    {
     "data": {
      "image/png": "[encoded data removed]",
      "text/plain": [
       "<Figure size 640x480 with 1 Axes>"
      ]
     },
     "metadata": {},
     "output_type": "display_data"
    }
   ],
   "source": [
    "plt.plot(mygrid.best_estimator_.named_steps[\"reg\"].coef_, 'o', label=\"LinearRegression\")\n",
    "plt.xlabel(\"Coefficient index\")\n",
    "plt.ylabel(\"Coefficient magnitude\")\n",
    "plt.hlines(0, 0, len(mygrid.best_estimator_.named_steps[\"reg\"].coef_))\n",
    "plt.ylim(-100, 100)\n",
    "plt.legend()"
   ]
  },
  {
   "cell_type": "code",
   "execution_count": 158,
   "metadata": {},
   "outputs": [
    {
     "name": "stdout",
     "output_type": "stream",
     "text": [
      "RMSE test: 9.0\n",
      "Accuracy score (r^2): 0.549\n",
      "Standard Deviation of Price: 13.626\n"
     ]
    }
   ],
   "source": [
    "# grid.predict(X_test)\n",
    "y_pred_test = mygrid.predict(X_test) # prediction\n",
    "print(f'RMSE test: {np.around((mean_squared_error(y_test, y_pred_test,squared=False)))}') # RMSE scoe\n",
    "print(f\"Accuracy score (r^2): {np.around(mygrid.score(X_test, y_test),3)}\") # r^2 score\n",
    "print(f'Standard Deviation of Price: {np.around(df.age.std(),3)}') # std of age\n",
    "# RMSE score is lower than std of age; Algorithm does well?"
   ]
  },
  {
   "cell_type": "code",
   "execution_count": 179,
   "metadata": {},
   "outputs": [
    {
     "data": {
      "text/html": [
       "<div>\n",
       "<style scoped>\n",
       "    .dataframe tbody tr th:only-of-type {\n",
       "        vertical-align: middle;\n",
       "    }\n",
       "\n",
       "    .dataframe tbody tr th {\n",
       "        vertical-align: top;\n",
       "    }\n",
       "\n",
       "    .dataframe thead th {\n",
       "        text-align: right;\n",
       "    }\n",
       "</style>\n",
       "<table border=\"1\" class=\"dataframe\">\n",
       "  <thead>\n",
       "    <tr style=\"text-align: right;\">\n",
       "      <th></th>\n",
       "      <th>predicted_age</th>\n",
       "      <th>actual_age</th>\n",
       "      <th>percentage_error</th>\n",
       "    </tr>\n",
       "  </thead>\n",
       "  <tbody>\n",
       "    <tr>\n",
       "      <th>10773</th>\n",
       "      <td>45</td>\n",
       "      <td>21</td>\n",
       "      <td>114.285714</td>\n",
       "    </tr>\n",
       "    <tr>\n",
       "      <th>5496</th>\n",
       "      <td>41</td>\n",
       "      <td>42</td>\n",
       "      <td>-2.380952</td>\n",
       "    </tr>\n",
       "    <tr>\n",
       "      <th>13054</th>\n",
       "      <td>26</td>\n",
       "      <td>36</td>\n",
       "      <td>-27.777778</td>\n",
       "    </tr>\n",
       "    <tr>\n",
       "      <th>11825</th>\n",
       "      <td>20</td>\n",
       "      <td>29</td>\n",
       "      <td>-31.034483</td>\n",
       "    </tr>\n",
       "    <tr>\n",
       "      <th>1326</th>\n",
       "      <td>45</td>\n",
       "      <td>53</td>\n",
       "      <td>-15.094340</td>\n",
       "    </tr>\n",
       "  </tbody>\n",
       "</table>\n",
       "</div>"
      ],
      "text/plain": [
       "       predicted_age  actual_age  percentage_error\n",
       "10773             45          21        114.285714\n",
       "5496              41          42         -2.380952\n",
       "13054             26          36        -27.777778\n",
       "11825             20          29        -31.034483\n",
       "1326              45          53        -15.094340"
      ]
     },
     "execution_count": 179,
     "metadata": {},
     "output_type": "execute_result"
    }
   ],
   "source": [
    "percent_error = 100* ((y_pred_test.astype(np.int8)-y_test)/y_test)\n",
    "data = {\n",
    "    'predicted_age':y_pred_test.astype(np.int8),'actual_age':y_test,\"percentage_error\":percent_error\n",
    "}\n",
    "predictions_frame = pd.DataFrame(data)\n",
    "predictions_frame.to_csv(\"predictions/regression_predictions.csv\",index=True)\n",
    "predictions_frame.head(5)"
   ]
  },
  {
   "cell_type": "code",
   "execution_count": 178,
   "metadata": {},
   "outputs": [
    {
     "data": {
      "text/plain": [
       "99"
      ]
     },
     "execution_count": 178,
     "metadata": {},
     "output_type": "execute_result"
    }
   ],
   "source": [
    "cond = predictions_frame.percentage_error == 0\n",
    "predictions_frame[cond].value_counts().sum()"
   ]
  },
  {
   "cell_type": "code",
   "execution_count": 177,
   "metadata": {},
   "outputs": [
    {
     "data": {
      "text/plain": [
       "Text(0, 0.5, 'Actual Age')"
      ]
     },
     "execution_count": 177,
     "metadata": {},
     "output_type": "execute_result"
    },
    {
     "data": {
      "image/png": "[encoded data removed]",
      "text/plain": [
       "<Figure size 640x480 with 1 Axes>"
      ]
     },
     "metadata": {},
     "output_type": "display_data"
    }
   ],
   "source": [
    "# Regression plot\n",
    "sns.set_theme(style='darkgrid')\n",
    "sns.regplot(data=predictions_frame,\n",
    "        x='predicted_age',\n",
    "        y='actual_age',\n",
    "        fit_reg=True,\n",
    "        color='crimson',\n",
    "        marker='.')\n",
    "plt.title('Regression Plot of Predicted Age vs. Actual Age')\n",
    "plt.xlabel('Predicted Age')\n",
    "plt.ylabel('Actual Age')"
   ]
  }
 ],
 "metadata": {
  "kernelspec": {
   "display_name": "Python 3.8.13",
   "language": "python",
   "name": "python3"
  },
  "language_info": {
   "codemirror_mode": {
    "name": "ipython",
    "version": 3
   },
   "file_extension": ".py",
   "mimetype": "text/x-python",
   "name": "python",
   "nbconvert_exporter": "python",
   "pygments_lexer": "ipython3",
   "version": "3.8.13"
  },
  "orig_nbformat": 4,
  "vscode": {
   "interpreter": {
    "hash": "c8e3cf4d6bb4a0ac7877b378c8a3c902fd94777f6924c9107da577688ed2ac1b"
   }
  }
 },
 "nbformat": 4,
 "nbformat_minor": 2
}
